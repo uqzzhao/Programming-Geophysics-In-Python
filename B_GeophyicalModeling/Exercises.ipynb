{
 "cells": [
  {
   "cell_type": "markdown",
   "metadata": {},
   "source": [
    "# EXERCISE (Gravity)\n",
    "\n",
    "Create a plot that shows the vertical gravity above the center of a circular anomaly for different heights $h$ \n",
    "above the center of the anomaly. Test heights starting from $h=120m$ up to a height of $h=300$ in increments\n",
    "of $20m$. \n",
    "\n",
    "** Hint**: Modify the code in <a href=\"EscriptBasics.ipynb\">EscriptBasics.ipynb</a> but you need create a new `Locator`."
   ]
  },
  {
   "cell_type": "markdown",
   "metadata": {},
   "source": [
    "# EXERCISE (Gravity)\n",
    "\n",
    "Plot the vertical gravity along a transect at a height of about 150m above the horizontal center line for \n",
    "a gravity anomaly of $\\rho=1 \\frac{t}{m^3}$ from an interface formed by a horizontal harmonic varying \n",
    "vertically with an amplitude of $100m$ at a mean depth of $100m$ below the horizontal center line of the domain.\n",
    "So the interface is located at \n",
    "\\begin{equation}\\label{eq:I}\n",
    "z = \\bar{z} + 100m \\cdot sin( k \\cdot x) \n",
    "\\end{equation}\n",
    "where $\\bar{z}$ is the mean depth. \n",
    "Domain size is $1km \\times 1km$ with a grid spacing of $10m$. Try different wave numbers $k$."
   ]
  },
  {
   "cell_type": "markdown",
   "metadata": {},
   "source": [
    "# EXERCISE (Magnetic)\n",
    "\n",
    "Plot the total magnetic field anomaly over the a transect for vertical dyke for Beijing. \n",
    "Modify the script in <a href=\"Magnetic.ipynb\">Magnetic Anomalies</a>\n",
    "\n",
    "** Hint **  Use the [Magnetic Field Calculator](https://www.ngdc.noaa.gov/geomag/calculators/magcalc.shtml#igrfwmm) to get the background magnetic field."
   ]
  },
  {
   "cell_type": "markdown",
   "metadata": {},
   "source": [
    "# EXERCISE (Magnetic)\n",
    "\n",
    "Calculate the total magnetic field anomaly over a transect for dyke with a dip other than $90^o$ (non-vertical)"
   ]
  },
  {
   "cell_type": "markdown",
   "metadata": {},
   "source": [
    "# EXERCISE (MT)\n",
    "\n",
    "Write a program that plots the apparent resistivity and the phase for frequencies for frequencies \n",
    "$f$ between $0.01$ and $10 Hz$ in logarithmic increments in the corresponding plots. \n",
    "The best strategy is to write a function `getImpedance` that takes a frequency as an argument and returns\n",
    "apparent resistivity and the phase along the transect for this frequency. "
   ]
  },
  {
   "cell_type": "markdown",
   "metadata": {},
   "source": [
    "# EXERCISE (MT)\n",
    "\n",
    "For $E$-polarization (TE-mode) the unknown is the transversal electric field $E_x$.\n",
    "The corresponding 2D simplification of the Maxwell's equations for this case are \n",
    "given as \n",
    "\\begin{equation}\\label{eqTEHz}\n",
    "\\frac{\\partial E_x}{\\partial y }=  \\mathbf{j} \\omega \\mu_0  H_z\n",
    "\\end{equation} \n",
    "\\begin{equation}\\label{eqTEHy}\n",
    "\\frac{\\partial E_x}{\\partial z }=   - \\mathbf{j} \\omega \\mu_0  H_y\n",
    "\\end{equation} \n",
    "The horizontal components then need to fulfill the equation:\n",
    "\\begin{equation}\\label{eqMaxwellTE}\n",
    "\\frac{\\partial H_z}{\\partial y }  - \\frac{\\partial H_y}{ \\partial z } = \\sigma  E_x\n",
    "\\end{equation}\n",
    "In the TE mode the impedance is given as \n",
    "\\begin{equation}\\label{eqImpTE}\n",
    "Z_{xy}(\\omega)=\\frac{E_x}{H_y}\n",
    "\\end{equation}\n",
    "Write a program that solves these equations for the conductive step for a given frequency (eg. f= $1Hz$) \n",
    "and plot the apparent resistivity and the phase along the transect for this frequency. "
   ]
  },
  {
   "cell_type": "markdown",
   "metadata": {},
   "source": [
    "# EXERCISE (Wave in Frequency Domain)\n",
    "Starting from the code in <a href=\"WavesFrequency.ipynb\">Waves in Frequency Domain</a>\n",
    "add an additional layer of with a speed $c_{mid}=2500 \\frac{m}{s}$ between the top and bottom layer. \n",
    "You may need to adjust the thickness of the layers.\n"
   ]
  },
  {
   "cell_type": "markdown",
   "metadata": {},
   "source": [
    "# EXERCISE (Wave in Frequency Domain)\n",
    "Starting from the code in <a href=\"WavesFrequency.ipynb\">Waves in Frequency Domain</a> or the code you have developed in the previous exercise\n",
    "add a second source at an offset of $1000m$ from the left boundary names \"source60\" and create an amplitude vs offset plot for this source. Plot the amplitude profile for \"source60\" and \"source66\" in the same plot."
   ]
  },
  {
   "cell_type": "markdown",
   "metadata": {},
   "source": [
    "# EXERCISE (Wave in Frequency Domain)\n",
    "Using from the code in <a href=\"WavesFrequency.ipynb\">Waves in Frequency Domain</a> or the code you have developed in the previous exercise plot the phase profiles for \"source66\" and \"source60\". \n",
    "** Hint** use the `phase` function in `esys.escript`"
   ]
  },
  {
   "cell_type": "markdown",
   "metadata": {},
   "source": [
    "#  EXERCISE (Wave in Time Domain)¶\n",
    "\n",
    "Starting from the code in <a href=\"WavesFrequency.ipynb\">Waves in Frequency Domain</a>\n",
    "add an additional layer of with a speed $c_{mid}=2500 \\frac{m}{s}$ between the top and bottom layer. \n",
    "You may need to adjust the thickness of the layers."
   ]
  },
  {
   "cell_type": "markdown",
   "metadata": {},
   "source": [
    "#  EXERCISE (Wave in Time Domain)¶\n",
    "\n",
    "Starting from the code in <a href=\"WavesFrequency.ipynb\">Waves in Frequency Domain</a>\n",
    "Increase the Ricker peak frequency. You may need to reduce the spacing and time steping in order to keep the solution \n",
    "stable."
   ]
  }
 ],
 "metadata": {
  "kernelspec": {
   "display_name": "Python 3",
   "language": "python",
   "name": "python3"
  },
  "language_info": {
   "codemirror_mode": {
    "name": "ipython",
    "version": 3
   },
   "file_extension": ".py",
   "mimetype": "text/x-python",
   "name": "python",
   "nbconvert_exporter": "python",
   "pygments_lexer": "ipython3",
   "version": "3.6.8"
  },
  "latex_envs": {
   "LaTeX_envs_menu_present": true,
   "autoclose": false,
   "autocomplete": true,
   "bibliofile": "biblio.bib",
   "cite_by": "apalike",
   "current_citInitial": 1,
   "eqLabelWithNumbers": true,
   "eqNumInitial": 1,
   "hotkeys": {
    "equation": "Ctrl-E",
    "itemize": "Ctrl-I"
   },
   "labels_anchors": false,
   "latex_user_defs": false,
   "report_style_numbering": false,
   "user_envs_cfg": false
  },
  "toc": {
   "base_numbering": 1,
   "nav_menu": {},
   "number_sections": true,
   "sideBar": true,
   "skip_h1_title": false,
   "title_cell": "Table of Contents",
   "title_sidebar": "Contents",
   "toc_cell": false,
   "toc_position": {},
   "toc_section_display": true,
   "toc_window_display": true
  },
  "varInspector": {
   "cols": {
    "lenName": 16,
    "lenType": 16,
    "lenVar": 40
   },
   "kernels_config": {
    "python": {
     "delete_cmd_postfix": "",
     "delete_cmd_prefix": "del ",
     "library": "var_list.py",
     "varRefreshCmd": "print(var_dic_list())"
    },
    "r": {
     "delete_cmd_postfix": ") ",
     "delete_cmd_prefix": "rm(",
     "library": "var_list.r",
     "varRefreshCmd": "cat(var_dic_list()) "
    }
   },
   "types_to_exclude": [
    "module",
    "function",
    "builtin_function_or_method",
    "instance",
    "_Feature"
   ],
   "window_display": false
  }
 },
 "nbformat": 4,
 "nbformat_minor": 2
}
