{
 "cells": [
  {
   "cell_type": "markdown",
   "metadata": {},
   "source": [
    "# Introduction to `esys.escript`"
   ]
  },
  {
   "cell_type": "markdown",
   "metadata": {},
   "source": [
    "## Outline\n",
    "\n",
    "This unit gives an introduction into solving partial differential equations (PDEs) in python. This \n",
    "section assumed that you have a basic understanding how to work with python.\n",
    "\n",
    "\n",
    "We are particularly looking at PDEs as they arise in geophysical problems. Of course it would take some work to build appropriate PDE solvers from scratch. To save this effort we use the python PDE solver module `esys.escript`. This section will give an introduction into the work with `esys.escript` to solve 2D problems. To illustrate the use we will look at the \n",
    "calculation of gravity anomaly fields from subsurface density anomalies. The following section will then present some geophysical applications of PDEs. The the third section will discuss the use of `esys.escript` to solve seismic wave equations in time and in frequency domain.\n",
    "\n",
    "We first present some details the PDEs for modeling gravity field anomalies before we start to\n",
    "discuss how to use `esys.escript` to solve this PDE. "
   ]
  },
  {
   "cell_type": "markdown",
   "metadata": {},
   "source": [
    "## Useful links:\n",
    "\n",
    "- [esys.escript home page](https://launchpad.net/escript-finley)\n",
    "- [Researchgate](https://www.researchgate.net/project/esys-escript)\n",
    "- [user's guide](https://launchpad.net/escript-finley/3.0+/5.4/+download/docs.zip)\n",
    "- [API documentation](https://esys-escript.readthedocs.io/en/latest/index.html)\n"
   ]
  },
  {
   "cell_type": "markdown",
   "metadata": {},
   "source": [
    "## An example problem: Gravity Field Anomalies\n",
    "The gravitational field $\\mathbf{g}$ (also called gravitational acceleration) is a vector field defining the gravitational force experienced by a particle as its mass multiplied by the gravitational field at that point.\n",
    "In Cartesian coordinates the gravitational field $\\mathbf{g}$ is expressed in the form\n",
    "\\begin{equation} \n",
    "\\mathbf{g}=(g_x, g_y, g_z)\n",
    "\\end{equation} \n",
    "The vector $\\mathbf{g}$ needs to fulfill the Gauss's law which is a generalization of Newton's law introduced in The Gauss's law is stated in the following way:\n",
    "\\begin{equation}\\label{EQGAUSSLAW}\n",
    " \\frac{\\partial g_x}{\\partial x} +  \\frac{\\partial g_y}{\\partial y} + \\frac{\\partial g_z}{\\partial z} = - 4\\pi G\\rho \n",
    "\\end{equation}\n",
    "where $G=6.67 \\cdot 10^{-11}  \\frac{m^3}{kg s^2}$ is the gravitational constant and $\\rho$ is the density distribution.  Gauss's law also stated using the divergence operator $\\mathbf{\\nabla}^t$:\n",
    "\\begin{equation}\n",
    "\\mathbf{\\nabla}^t \\; \\mathbf {g} =-4\\pi G\\rho \n",
    "\\end{equation}\n",
    "The magnetic field $\\mathbf{g}$ is obtained from its potential $u$ \n",
    "using the *Grad* operator $\\mathbf{\\nabla}$:\n",
    "\\begin{equation} \n",
    "\\mathbf{g} = -\n",
    "\\mathbf{\\nabla} U \n",
    "\\end{equation} \n",
    "with the gravity accelerations \n",
    "\\begin{equation}\\label{EQGRADRULE}\n",
    "g_x =  - \\frac{\\partial U}{\\partial x}, g_y =  - \\frac{\\partial U}{ \\partial y} \\mbox{ and } g_z =  - \\frac{\\partial U}{\\partial z}, \n",
    "\\end{equation} \n",
    "If $\\rho$ in \\eqref{EQGAUSSLAW} is selected as a density anomaly, ie. as the deviation from a constant background\n",
    "density, then the Gauss's law \\eqref{EQGAUSSLAW} and scalar potential definition \\eqref{EQGRADRULE}\n",
    "defines a PDE for the potential $u$ which gradient gives the gravity field anomaly $\\mathbf{g}$\n",
    "due to the density anomaly $\\rho$. To model field observations we are interested in the \n",
    "vertical component $g_z$ of $\\mathbf{g}$.\n"
   ]
  },
  {
   "cell_type": "markdown",
   "metadata": {},
   "source": [
    "## The PDE template\n",
    "In `esys.escript` the PDE to be solved is defined trough a generic PDE template \n",
    "in $x_0x_1$-coordinates. \n",
    "which is provided through the `LinearSinglePDE` class. The\n",
    "template fits nicely with the problem of finding the gravity potential. We will in the $x_0=x$\n",
    "and $x_1=z$ coordinate system. \n",
    "\n",
    "First we write `LinearSinglePDE` template down in an abstract formulation: When $u$ is the unknown\n",
    "we define the so-called `flux` vector $\\mathbf{F}$ which is in essence the negative gradient of the solution \n",
    "times some matrix $\\mathbf{A}$ plus some vector $X$:\n",
    "\\begin{equation} \\label{EQFLUX}\n",
    "\\mathbf{F} = - \\mathbf{A} \\mathbf{\\nabla} u +\\mathbf{X}\n",
    "\\end{equation} \n",
    "Ignoring the matrix $\\mathbf{A}$ and setting $\\mathbf{X}=0$ \n",
    "this already looks like the scalar potential definition \\eqref{EQGRADRULE} when $u=U$ is the gravity potential and\n",
    "$\\mathbf{F}=\\mathbf{g}$ is the gravity acceleration. \n",
    "\n",
    "The flux vector $\\mathbf{F}$ needs to fulfill the conservation equation : \n",
    "\\begin{equation}\\label{EQCONSERVATION}\n",
    "\\mathbf{\\nabla}^t \\; \\mathbf{F} + D \\; u = Y \n",
    "\\end{equation}\n",
    "where $D$ is a scalar and $Y$ is the right hand side. We can easily identify Gauss's law \\eqref{EQGAUSSLAW}\n",
    "when we choose $D=0$ and $Y=- 4\\pi G\\rho$. \n",
    "\n",
    "Before we set this up in python we look at these equations in a bit more detail. For the 2D case the flux definition \\eqref{EQFLUX} reads as\n",
    "\\begin{equation}\\label{EQFLUX2}\n",
    "\\mathbf{F} = \n",
    "\\begin{bmatrix}\n",
    " F_0 \\\\\n",
    " F_1\n",
    "\\end{bmatrix}\n",
    "= - \n",
    "\\begin{bmatrix}\n",
    "A_{00} \\frac{\\partial u}{\\partial  x_0} & + & A_{01} \\frac{\\partial  u}{\\partial  x_1}\\\\\n",
    "A_{10} \\frac{\\partial  u}{\\partial  x_0} & + & A_{11} \\frac{\\partial  u}{\\partial  x_1}\n",
    "\\end{bmatrix}\n",
    "\\end{equation} \n",
    "Comparison with the grad rule \\eqref{EQGRADRULE} shows that we need to choose \n",
    "\\begin{equation}\n",
    "\\begin{bmatrix}\n",
    "A_{00} & A_{01} \\\\\n",
    "A_{10}  & A_{11} \n",
    "\\end{bmatrix}= \n",
    "\\begin{bmatrix}\n",
    "1 & 0  \\\\\n",
    "0  & 1 \n",
    "\\end{bmatrix}\n",
    "\\end{equation}\n",
    "To define the PDE we want to solve we need to define the coefficients in the PDE template\n",
    "through `LinearSinglePDE` instance. To get the solution $u$ (in fact a numerical approximation is calculated)\n",
    "is then as easy as calling the `getSolution` method. \n",
    "Before we can define the PDE we need to set up the region over which we would like to solve the PDE. In the\n",
    "terminology of `esys.escript`  this is called a `Domain`. "
   ]
  },
  {
   "cell_type": "markdown",
   "metadata": {},
   "source": [
    "## How to create a domain\n",
    "\n",
    "The first step to set-up the problem is to define the region over which the problem is solved. Here we use \n",
    "a rectangular grid of `NEx` elements in the horizonal x-direction and `NEz` elements in the vertical z-direction. \n",
    "We use a grid line spacing of `dx`. "
   ]
  },
  {
   "cell_type": "code",
   "execution_count": 1,
   "metadata": {},
   "outputs": [],
   "source": [
    "#%matplotlib notebook"
   ]
  },
  {
   "cell_type": "code",
   "execution_count": 2,
   "metadata": {
    "tags": [
     "SOLUTION"
    ]
   },
   "outputs": [
    {
     "name": "stdout",
     "output_type": "stream",
     "text": [
      "domin extension = 1000.0 x 1000.0\n",
      "grid = 100 x 100\n"
     ]
    }
   ],
   "source": [
    "NEx=100 # number of cells\n",
    "NEz=100\n",
    "dx=10. # in meter [m] grid spacing\n",
    "Lx=dx*NEx\n",
    "Lz=dx*NEz\n",
    "print(\"domin extension = %s x %s\"%(Lx,Lz))\n",
    "print(\"grid = %s x %s\"%(NEx,NEz))"
   ]
  },
  {
   "cell_type": "markdown",
   "metadata": {},
   "source": [
    "We use the package `finley` which is part of the `esys.escript` distribution to set up the domain:"
   ]
  },
  {
   "cell_type": "code",
   "execution_count": 3,
   "metadata": {
    "tags": [
     "SOLUTION"
    ]
   },
   "outputs": [
    {
     "name": "stdout",
     "output_type": "stream",
     "text": [
      "<class 'esys.finley.finleycpp.FinleyDomain'>\n"
     ]
    }
   ],
   "source": [
    "from esys.escript import *\n",
    "from esys.finley import Rectangle\n",
    "domain=Rectangle(l0=Lx, l1=Lz, n0=NEx, n1=NEz)\n",
    "print(type(domain))\n"
   ]
  },
  {
   "cell_type": "markdown",
   "metadata": {},
   "source": [
    "**Note** the following rules for `Rectangle`:\n",
    "- the axis are labeled `x0` and `x1`\n",
    "- the lower, left corner has the coordinates `(0.,0.)`.\n",
    "\n",
    "Use `Brick` from `esys.finley` for 3D domains.\n",
    "There are other domain packages available:\n",
    "- `esys.finley` - general FEM solver solver also support unstructured meshes and contact elements\n",
    "- `esys.ripley` - special solver for rectangular grids\n",
    "- `esys.specley` - spectral element solver for wave problems (will discussed later)\n",
    "- `esys.dudley` - FEM solver for tetrahedral and triangular meshes\n",
    "\n"
   ]
  },
  {
   "cell_type": "markdown",
   "metadata": {},
   "source": [
    "## Setting up and solving a PDE"
   ]
  },
  {
   "cell_type": "markdown",
   "metadata": {},
   "source": [
    "The first step to set up a PDE is to create an instance of the `LinearSinglePDE` class.\n",
    "Here we call this instance `model` and attach it to the domain `domain` we have already created:"
   ]
  },
  {
   "cell_type": "code",
   "execution_count": 4,
   "metadata": {
    "tags": [
     "SOLUTION"
    ]
   },
   "outputs": [
    {
     "name": "stdout",
     "output_type": "stream",
     "text": [
      "<LinearPDE 140375848399536>\n"
     ]
    }
   ],
   "source": [
    "from esys.escript.linearPDEs import LinearSinglePDE\n",
    "\n",
    "model=LinearSinglePDE(domain)\n",
    "print(model)"
   ]
  },
  {
   "cell_type": "markdown",
   "metadata": {},
   "source": [
    "Now we need to set the coefficients $\\mathbf{A}$ and $Y$. `esys-escript` will automatically assume that the other coefficients $\\mathbf{X}$ and $D$ are zero. Let's start with coefficient $\\mathbf{A}$:\n",
    "\n",
    "Recall that for the Gauss' Law $\\mathbf{A}$ is the identity matrix. `esys-escript` \n",
    "provides the convenience function `identityTensor` that sets up the identity matrix.\n",
    "Its return value can directly be passed on to `model` as coefficient `A`:\n"
   ]
  },
  {
   "cell_type": "code",
   "execution_count": 5,
   "metadata": {
    "tags": [
     "SOLUTION"
    ]
   },
   "outputs": [],
   "source": [
    "model.setValue(A=identityTensor(domain))"
   ]
  },
  {
   "cell_type": "markdown",
   "metadata": {},
   "source": [
    "**Note:**\n",
    "`identityTensor` returns a $d \\times d$ matrix where $d$ is chosen as the spatial \n",
    "of its argument. As `domain` is two dimensional a $2 \\times 2$ identity matrix is returned.\n",
    "If the domain becomes 3D at a later point the identity matrix will be defines as $3 \\times 3$. This allows writing code that is identity from the spatial dimension of the domain."
   ]
  },
  {
   "cell_type": "markdown",
   "metadata": {},
   "source": [
    "Next we define the PDE coefficient $Y$ which is given as $Y=- 4\\pi G\\rho$ and requires us \n",
    "to define the density $\\rho$. \n",
    "As an example we assume that the density anomaly is a circle centered\n",
    "at $\\mathbf{c}=(c_0, c_1)=(\\frac{Lx}{2}, \\frac{Lx}{3})$ with radius $R_C=100$m. \n",
    "\n",
    "To define $\\rho$ we first need to calculate the distance of any point $\\mathbf{x}$ in the \n",
    "domain from the $\\mathbf{c}$. Then $rho$ is set to $\\rho_0=1000 \\frac{kg}{m^3}$ \n",
    "at those points which distance is smaller than $R_C$. For the others  $\\rho$ is set to zero.\n",
    "\n",
    "First gets the coordinates of the points in the domain: "
   ]
  },
  {
   "cell_type": "code",
   "execution_count": 6,
   "metadata": {
    "tags": [
     "SOLUTION"
    ]
   },
   "outputs": [
    {
     "name": "stdout",
     "output_type": "stream",
     "text": [
      "<class 'esys.escriptcore.escriptcpp.Data'>\n"
     ]
    }
   ],
   "source": [
    "x=domain.getX()\n",
    "print(type(x))"
   ]
  },
  {
   "cell_type": "markdown",
   "metadata": {},
   "source": [
    "`x` is a `Data` object which is giving locations in the domain. So `x` has two components: "
   ]
  },
  {
   "cell_type": "code",
   "execution_count": 7,
   "metadata": {
    "tags": [
     "SOLUTION"
    ]
   },
   "outputs": [
    {
     "name": "stdout",
     "output_type": "stream",
     "text": [
      "shape of data obect `x` (2,)\n"
     ]
    }
   ],
   "source": [
    "print(\"shape of data obect `x`\",x.getShape())"
   ]
  },
  {
   "cell_type": "markdown",
   "metadata": {},
   "source": [
    "Components of `x` can be accessed by slicing:"
   ]
  },
  {
   "cell_type": "code",
   "execution_count": 8,
   "metadata": {
    "tags": [
     "SOLUTION"
    ]
   },
   "outputs": [
    {
     "name": "stdout",
     "output_type": "stream",
     "text": [
      "x0 coordinates =  Summary: inf=0 sup=1000 data points=10201\n",
      "x1 coordinates =  Summary: inf=0 sup=1000 data points=10201\n"
     ]
    }
   ],
   "source": [
    "print(\"x0 coordinates = \",x[0])\n",
    "print(\"x1 coordinates = \",x[1])"
   ]
  },
  {
   "cell_type": "markdown",
   "metadata": {},
   "source": [
    "The statement `inf=0` gives the smallest value - in our case of the $x_0$ coordinate. \n",
    "The maximal value is shown as `sup=1000` which gives the value of `Lx`. The number of\n",
    "point being used is `10201`. The reason for this is that there is one value for each grid point which would be '(n0+1) x (n1+1)' values (Why?). In our case this would be \n",
    "'(n0+1) x (n1+1) = (NEx+1) x (NEz+1) = 201 x 201 = 10201' values.\n"
   ]
  },
  {
   "cell_type": "markdown",
   "metadata": {},
   "source": [
    "The distance of point $\\mathbf{x}$ to point $\\mathbf{c}$ can be calculated by \n",
    "\\begin{equation}\\label{eq:distance}\n",
    "d=\\sqrt{ (x_0-c_0)^2 + (x_1-c_1)^2}\n",
    "\\end{equation}"
   ]
  },
  {
   "cell_type": "code",
   "execution_count": 9,
   "metadata": {},
   "outputs": [],
   "source": [
    "c=[Lx/2., Lz/3.]\n",
    "RC=100. "
   ]
  },
  {
   "cell_type": "code",
   "execution_count": 10,
   "metadata": {
    "tags": [
     "SOLUTION"
    ]
   },
   "outputs": [
    {
     "name": "stdout",
     "output_type": "stream",
     "text": [
      "distance to c = [500.0, 333.3333333333333] : Summary: inf=3.33333 sup=833.333 data points=10201\n"
     ]
    }
   ],
   "source": [
    "d=sqrt((x[0]-c[0])**2+(x[1]-c[1])**2)\n",
    "print(\"distance to c = %s :\"%c,d)"
   ]
  },
  {
   "cell_type": "markdown",
   "metadata": {},
   "source": [
    "Notice that `d` is also a `Data` object as it has been  derived from \n",
    "the `Data` object `x`. It can be seen as a function of the location `x`. "
   ]
  },
  {
   "cell_type": "markdown",
   "metadata": {},
   "source": [
    "There is a more compact form to calculate `d` using the `length` function:"
   ]
  },
  {
   "cell_type": "code",
   "execution_count": 11,
   "metadata": {
    "tags": [
     "SOLUTION"
    ]
   },
   "outputs": [
    {
     "name": "stdout",
     "output_type": "stream",
     "text": [
      "distance to c = [500.0, 333.3333333333333] : Summary: inf=3.33333 sup=833.333 data points=10201\n"
     ]
    }
   ],
   "source": [
    "d=length(x-c)\n",
    "print(\"distance to c = %s :\"%c,d)"
   ]
  },
  {
   "cell_type": "markdown",
   "metadata": {},
   "source": [
    "We want have the anomaly distribution `rho` to be `rho0` where the distance `d` is smaller than `RC` \n",
    "(or `d-RC<0`) and zero otherwise. We use the `whereNegative` function which returns one where its argument is negative and zero elsewhere:  "
   ]
  },
  {
   "cell_type": "code",
   "execution_count": 12,
   "metadata": {},
   "outputs": [],
   "source": [
    "rho0=1000.\n",
    "rho=rho0*whereNegative(d-RC)"
   ]
  },
  {
   "cell_type": "markdown",
   "metadata": {},
   "source": [
    "Now we can set the right hand side `Y` of the PDE `model`:"
   ]
  },
  {
   "cell_type": "code",
   "execution_count": 13,
   "metadata": {},
   "outputs": [],
   "source": [
    "import numpy as np\n",
    "G=6.67e-11  # m^3/kg/sec^2 gravity constant\n",
    "model.setValue(Y=-4*G*np.pi*rho)"
   ]
  },
  {
   "cell_type": "markdown",
   "metadata": {},
   "source": [
    "We are expecting the gravity to vanish at large distances away from the circle. For a bounded domain as we use in the gravity model here we enforce this condition on the boundary of the domain formed by the bottom and top face\n",
    "$x_1=0$ and $x_1=L_z$. To tell this to `LinearSinglePDE` we need to set a mask `q` which marks the locations on the surface where we want the solution $u$ to be zero:\n",
    "\\begin{equation}\\label{EQQ}\n",
    "q(\\mathbf{x}) = \\begin{cases}\n",
    ">0  & \\mbox{ set } u(\\mathbf{x})=0 \\\\\n",
    "=0  & \\mbox{ no constraint at } x\n",
    "\\end{cases} \n",
    "\\end{equation}\n",
    "We use the `whereZero` function which takes a `Data` object. It returns \n",
    "a `Data` object which has the value \n",
    "**one** at location where the argument has the value **zero**. Otherwise zero is used. \n",
    "It is applied to define a `q` for each face of the domain. These `q`s are then combined\n",
    "by addition to define the final `q` which is has positive value at any point on the \n",
    "surface of the domain but zero in the interior."
   ]
  },
  {
   "cell_type": "code",
   "execution_count": 14,
   "metadata": {
    "tags": [
     "SOLUTION"
    ]
   },
   "outputs": [],
   "source": [
    "x=domain.getX()\n",
    "q_bottom=whereZero(x[1])     # 1 for face x_1=0\n",
    "q_top=whereZero(x[1]-Lz)  # 1 for face x_1=Lz\n",
    "\n",
    "model.setValue(q=q_bottom+q_top)"
   ]
  },
  {
   "cell_type": "markdown",
   "metadata": {},
   "source": [
    "Question is: What boundary conditions are applied on the other two faces?\n",
    "By default the so called *weak* boundary conditions\n",
    "\\begin{equation}\\label{eq:weakBC}\n",
    "\\mathbf{F} \\cdot \\mathbf{n} = F_0 n_0 + F_1 n_1 = 0\n",
    "\\end{equation}\n",
    "with outer normal field $\\mathbf{n}=(n_0, n_1)$ are assumed.\n",
    "As $\\mathbf{n}=(-1,0)$ on the left face and \n",
    "As $\\mathbf{n}=(1,0)$ on the right face \n",
    "of the domain the boundary condition there become \n",
    "\\begin{equation}\\label{eq:weakBC1}\n",
    "F_0= -\\frac{\\partial u}{\\partial x_0} = 0\n",
    "\\end{equation}\n"
   ]
  },
  {
   "cell_type": "markdown",
   "metadata": {},
   "source": [
    "Now we are are ready to get the solution of the PDE:"
   ]
  },
  {
   "cell_type": "code",
   "execution_count": 15,
   "metadata": {
    "tags": [
     "SOLUTION"
    ]
   },
   "outputs": [],
   "source": [
    "u=model.getSolution()"
   ]
  },
  {
   "cell_type": "markdown",
   "metadata": {},
   "source": [
    "**Note**\n",
    "\n",
    "The `getSolution` call involves the solution of system of linear equation. The dimension \n",
    "is the number of grid points. For large grids and for 3D problems this solve can take some time."
   ]
  },
  {
   "cell_type": "markdown",
   "metadata": {},
   "source": [
    "The `grad` function returns the gradient of the argument. The negative of the gradient \n",
    "gives us the gravitational acceleration `g`:"
   ]
  },
  {
   "cell_type": "code",
   "execution_count": 16,
   "metadata": {
    "tags": [
     "SOLUTION"
    ]
   },
   "outputs": [
    {
     "name": "stdout",
     "output_type": "stream",
     "text": [
      "Summary: inf=-3.85762e-05 sup=4.6591e-05 data points=40000\n"
     ]
    }
   ],
   "source": [
    "g=-grad(u)\n",
    "print(g)"
   ]
  },
  {
   "cell_type": "markdown",
   "metadata": {},
   "source": [
    "The gravitational acceleration is a vector:"
   ]
  },
  {
   "cell_type": "code",
   "execution_count": 17,
   "metadata": {
    "tags": [
     "SOLUTION"
    ]
   },
   "outputs": [
    {
     "data": {
      "text/plain": [
       "(2,)"
      ]
     },
     "execution_count": 17,
     "metadata": {},
     "output_type": "execute_result"
    }
   ],
   "source": [
    "g.getShape()"
   ]
  },
  {
   "cell_type": "markdown",
   "metadata": {},
   "source": [
    "Before we start looking into postprocessing techniques we need to understand better \n",
    "what `esys.escript.Data` objects such as `d`, `u` and `g` are actually represent. "
   ]
  },
  {
   "cell_type": "markdown",
   "metadata": {},
   "source": [
    "## What do the values in `Data` objects actually mean?"
   ]
  },
  {
   "cell_type": "markdown",
   "metadata": {},
   "source": [
    "When we print `Data` objects this shows the minimum (`inf`) and maximum (`sup`) value but also\n",
    "the number of `data points` being used. Let have a look at the `d`, `u` and `g` again:"
   ]
  },
  {
   "cell_type": "code",
   "execution_count": 18,
   "metadata": {
    "tags": [
     "SOLUTION"
    ]
   },
   "outputs": [
    {
     "name": "stdout",
     "output_type": "stream",
     "text": [
      "x : Summary: inf=0 sup=1000 data points=10201\n",
      "d : Summary: inf=3.33333 sup=833.333 data points=10201\n",
      "u : Summary: inf=-0.00974452 sup=0 data points=10201\n",
      "g : Summary: inf=-3.85762e-05 sup=4.6591e-05 data points=40000\n"
     ]
    }
   ],
   "source": [
    "print(\"x :\", x)\n",
    "print(\"d :\", d)\n",
    "print(\"u :\", u)\n",
    "print(\"g :\", g)"
   ]
  },
  {
   "cell_type": "markdown",
   "metadata": {},
   "source": [
    "The number of data points for `x`, `d` and `u` are the same namely `10201`. As already explained this \n",
    "comes from the fact that `d` holds the data on the grid nodes (intersects of grid lines). \n",
    "The gradient `g` is stored cell (or element) based where in four integration points in each cell is used. \n",
    "This explains the number of data points of `40000` as \n",
    "\\begin{equation}\n",
    "NEx \\times NEz \\times \\mbox{ # integration points } = 100  \\times 100  \\times 4 = 40000\n",
    "\\end{equation}\n",
    "When handling `Data` objects it is obviously important to know which representation locations \n",
    "a particular `Data` object is \n",
    "using. For instance a `Data` object using grid nodes and a `Data` objects using cells cannot easily be added together. In order to handle this the `Data` object has an attribute that defines the way its values are handled.\n",
    "This location attribute can be obtained by the `getFunctionSpace` method:"
   ]
  },
  {
   "cell_type": "code",
   "execution_count": 19,
   "metadata": {
    "tags": [
     "SOLUTION"
    ]
   },
   "outputs": [
    {
     "name": "stdout",
     "output_type": "stream",
     "text": [
      "d is stored at  Finley_Nodes [ContinuousFunction(domain)] on FinleyMesh\n",
      "g is stored at  Finley_Elements [Function(domain)] on FinleyMesh\n"
     ]
    }
   ],
   "source": [
    "print(\"d is stored at \", d.getFunctionSpace())\n",
    "print(\"g is stored at \", g.getFunctionSpace())"
   ]
  },
  {
   "cell_type": "markdown",
   "metadata": {},
   "source": [
    "This a list of  location attributes are available:\n",
    "\n",
    "- `ContinuousFunction(domain)`: mesh nodes\n",
    "- `Solution(domain)`: solution of a PDE, typically also on mesh nodes \n",
    "- `Function(domain)` : on integration points per element\n",
    "- `ReducedFunction(domain)`: on element centers\n",
    "- `DiracDeltaFunction(domain)`: point sources and sinks which we will use later"
   ]
  },
  {
   "cell_type": "markdown",
   "metadata": {},
   "source": [
    "The locations where the values are hold can be obtained by the `getX` methof of a `FunctionSpace`:"
   ]
  },
  {
   "cell_type": "code",
   "execution_count": 20,
   "metadata": {
    "tags": [
     "SOLUTION"
    ]
   },
   "outputs": [],
   "source": [
    "X=g.getFunctionSpace().getX()"
   ]
  },
  {
   "cell_type": "markdown",
   "metadata": {},
   "source": [
    "One can test if the `FunctionSpace` attribute of two `Data` objects is the same:"
   ]
  },
  {
   "cell_type": "code",
   "execution_count": 21,
   "metadata": {
    "tags": [
     "SOLUTION"
    ]
   },
   "outputs": [
    {
     "name": "stdout",
     "output_type": "stream",
     "text": [
      "g and d on the same location? False\n",
      "X and g on the same location? True\n",
      "g is on integration points? True\n"
     ]
    }
   ],
   "source": [
    "print(\"g and d on the same location?\", g.getFunctionSpace() == d.getFunctionSpace())\n",
    "print(\"X and g on the same location?\",X.getFunctionSpace() == g.getFunctionSpace())\n",
    "print(\"g is on integration points?\",X.getFunctionSpace() == Function(domain))"
   ]
  },
  {
   "cell_type": "markdown",
   "metadata": {},
   "source": [
    "Interpolation can be used to change the data location. We would like to have the \n",
    "vertical gravity $g_z$ at element centers. Here we interpolate the `g[1]` which is the\n",
    "vertical gravity at the integration points to the element centers: "
   ]
  },
  {
   "cell_type": "code",
   "execution_count": 22,
   "metadata": {
    "tags": [
     "SOLUTION"
    ]
   },
   "outputs": [
    {
     "name": "stdout",
     "output_type": "stream",
     "text": [
      "Summary: inf=-3.85762e-05 sup=4.6591e-05 data points=40000\n",
      "Summary: inf=-3.69606e-05 sup=4.65409e-05 data points=10000\n"
     ]
    }
   ],
   "source": [
    "gz=interpolate(g[1], ReducedFunction(domain))\n",
    "print(g)\n",
    "print(gz)"
   ]
  },
  {
   "cell_type": "markdown",
   "metadata": {},
   "source": [
    "**WARNING:** Not all interpolations work. This depends on the PDE model being used.\n",
    "For instance interpolation from element centers to nodes is not supported for a `finley` domain:"
   ]
  },
  {
   "cell_type": "code",
   "execution_count": 23,
   "metadata": {
    "tags": [
     "SOLUTION"
    ]
   },
   "outputs": [
    {
     "ename": "ValueError",
     "evalue": "No interpolation with data on elements with reduced integration order possible.",
     "output_type": "error",
     "traceback": [
      "\u001b[0;31m---------------------------------------------------------------------------\u001b[0m",
      "\u001b[0;31mValueError\u001b[0m                                Traceback (most recent call last)",
      "\u001b[0;32m<ipython-input-23-3f6eec848c53>\u001b[0m in \u001b[0;36m<module>\u001b[0;34m()\u001b[0m\n\u001b[0;32m----> 1\u001b[0;31m \u001b[0minterpolate\u001b[0m\u001b[0;34m(\u001b[0m\u001b[0mgz\u001b[0m\u001b[0;34m,\u001b[0m \u001b[0mContinuousFunction\u001b[0m\u001b[0;34m(\u001b[0m\u001b[0mdomain\u001b[0m\u001b[0;34m)\u001b[0m\u001b[0;34m)\u001b[0m\u001b[0;34m\u001b[0m\u001b[0;34m\u001b[0m\u001b[0m\n\u001b[0m",
      "\u001b[0;32m/home/gross/esys13/trunk/esys/escriptcore/util.pyc\u001b[0m in \u001b[0;36minterpolate\u001b[0;34m(arg, where)\u001b[0m\n",
      "\u001b[0;31mValueError\u001b[0m: No interpolation with data on elements with reduced integration order possible."
     ]
    }
   ],
   "source": [
    "interpolate(gz, ContinuousFunction(domain))"
   ]
  },
  {
   "cell_type": "markdown",
   "metadata": {},
   "source": [
    "## Visualization using `matplotlib`\n",
    "\n",
    "`matplotlib` is a powerful and very versatile tool for plotting data in python. \n",
    "Here we want to use it plot the distribution of the vertical gravity over the domain.\n",
    "To hand `Data` objects to `matplotlib` they first need to converted into `numpy` arrays. \n",
    "With `convertToNumpy` `esys.escript` provides an easy mechanism to do this. \n",
    "To plot data we need not only the data but also the location at which they are position in order\n",
    "to plot their distribution. So we not only convert the `Data` objects but also the corresponding \n",
    "locations which we can get through the `FunctionSpace` attribute:"
   ]
  },
  {
   "cell_type": "code",
   "execution_count": null,
   "metadata": {
    "tags": [
     "SOLUTION"
    ]
   },
   "outputs": [],
   "source": [
    "gz_np=convertToNumpy(gz)\n",
    "x_np=convertToNumpy(gz.getFunctionSpace().getX())\n",
    "print(gz_np)\n",
    "print(x_np)"
   ]
  },
  {
   "cell_type": "markdown",
   "metadata": {},
   "source": [
    "We now can use the `tricontourf` to plot filled contours and `tricontour` to plot contour lines of the\n",
    "the spatial distribution of vertical gravity `gz` using its `numpy` version `gz_np` and the corresponding data locations `x_np`. \n",
    "\n",
    "** Note ** For more options see the documentaions of [tricontour](https://matplotlib.org/3.1.1/api/_as_gen/matplotlib.pyplot.tricontour.html) and [tricontourf](https://matplotlib.org/3.1.1/api/_as_gen/matplotlib.pyplot.tricontourf.html).\n"
   ]
  },
  {
   "cell_type": "code",
   "execution_count": null,
   "metadata": {},
   "outputs": [],
   "source": [
    "tomGal = 100000. # conversion from m/s**2 to mGal"
   ]
  },
  {
   "cell_type": "code",
   "execution_count": 33,
   "metadata": {
    "tags": [
     "SOLUTION"
    ]
   },
   "outputs": [
    {
     "ename": "NameError",
     "evalue": "name 'x_np' is not defined",
     "output_type": "error",
     "traceback": [
      "\u001b[0;31m---------------------------------------------------------------------------\u001b[0m",
      "\u001b[0;31mNameError\u001b[0m                                 Traceback (most recent call last)",
      "\u001b[0;32m<ipython-input-33-ce91d034b864>\u001b[0m in \u001b[0;36m<module>\u001b[0;34m()\u001b[0m\n\u001b[1;32m      4\u001b[0m \u001b[0mplt\u001b[0m\u001b[0;34m.\u001b[0m\u001b[0mfigure\u001b[0m\u001b[0;34m(\u001b[0m\u001b[0mfigsize\u001b[0m\u001b[0;34m=\u001b[0m\u001b[0;34m(\u001b[0m\u001b[0;36m7\u001b[0m\u001b[0;34m,\u001b[0m\u001b[0;36m7\u001b[0m\u001b[0;34m)\u001b[0m\u001b[0;34m)\u001b[0m\u001b[0;34m\u001b[0m\u001b[0;34m\u001b[0m\u001b[0m\n\u001b[1;32m      5\u001b[0m \u001b[0mplt\u001b[0m\u001b[0;34m.\u001b[0m\u001b[0mclf\u001b[0m\u001b[0;34m(\u001b[0m\u001b[0;34m)\u001b[0m\u001b[0;34m\u001b[0m\u001b[0;34m\u001b[0m\u001b[0m\n\u001b[0;32m----> 6\u001b[0;31m \u001b[0mcontour\u001b[0m\u001b[0;34m=\u001b[0m\u001b[0mplt\u001b[0m\u001b[0;34m.\u001b[0m\u001b[0mtricontourf\u001b[0m\u001b[0;34m(\u001b[0m\u001b[0mx_np\u001b[0m\u001b[0;34m[\u001b[0m\u001b[0;36m0\u001b[0m\u001b[0;34m]\u001b[0m\u001b[0;34m,\u001b[0m \u001b[0mx_np\u001b[0m\u001b[0;34m[\u001b[0m\u001b[0;36m1\u001b[0m\u001b[0;34m]\u001b[0m\u001b[0;34m,\u001b[0m \u001b[0mgz_np\u001b[0m\u001b[0;34m[\u001b[0m\u001b[0;36m0\u001b[0m\u001b[0;34m]\u001b[0m\u001b[0;34m*\u001b[0m\u001b[0mtomGal\u001b[0m\u001b[0;34m,\u001b[0m \u001b[0;36m15\u001b[0m\u001b[0;34m)\u001b[0m\u001b[0;34m\u001b[0m\u001b[0;34m\u001b[0m\u001b[0m\n\u001b[0m\u001b[1;32m      7\u001b[0m \u001b[0mplt\u001b[0m\u001b[0;34m.\u001b[0m\u001b[0mtricontour\u001b[0m\u001b[0;34m(\u001b[0m\u001b[0mx_np\u001b[0m\u001b[0;34m[\u001b[0m\u001b[0;36m0\u001b[0m\u001b[0;34m]\u001b[0m\u001b[0;34m,\u001b[0m \u001b[0mx_np\u001b[0m\u001b[0;34m[\u001b[0m\u001b[0;36m1\u001b[0m\u001b[0;34m]\u001b[0m\u001b[0;34m,\u001b[0m \u001b[0mgz_np\u001b[0m\u001b[0;34m[\u001b[0m\u001b[0;36m0\u001b[0m\u001b[0;34m]\u001b[0m\u001b[0;34m*\u001b[0m\u001b[0mtomGal\u001b[0m\u001b[0;34m,\u001b[0m \u001b[0;36m15\u001b[0m\u001b[0;34m,\u001b[0m \u001b[0mlinewidths\u001b[0m\u001b[0;34m=\u001b[0m\u001b[0;36m0.8\u001b[0m\u001b[0;34m,\u001b[0m \u001b[0mcolors\u001b[0m\u001b[0;34m=\u001b[0m\u001b[0;34m'k'\u001b[0m\u001b[0;34m)\u001b[0m\u001b[0;34m\u001b[0m\u001b[0;34m\u001b[0m\u001b[0m\n\u001b[1;32m      8\u001b[0m \u001b[0;34m\u001b[0m\u001b[0m\n",
      "\u001b[0;31mNameError\u001b[0m: name 'x_np' is not defined"
     ]
    }
   ],
   "source": [
    "import matplotlib.pyplot as plt\n",
    "tomGal = 100000\n",
    "\n",
    "plt.figure(figsize=(7,7))\n",
    "plt.clf()\n",
    "contour=plt.tricontourf(x_np[0], x_np[1], gz_np[0]*tomGal, 15)\n",
    "plt.tricontour(x_np[0], x_np[1], gz_np[0]*tomGal, 15, linewidths=0.8, colors='k')\n",
    "\n",
    "plt.xlabel('$x_0$ [m]')\n",
    "plt.ylabel('$x_1$ [m]')\n",
    "plt.title(\"Vertical gravity $g_z$ [mGal] due to a circular anomaly\")\n",
    "plt.colorbar(contour)\n",
    "plt.gca().set_aspect('equal')"
   ]
  },
  {
   "cell_type": "markdown",
   "metadata": {},
   "source": [
    "We can also do this in 3D:"
   ]
  },
  {
   "cell_type": "code",
   "execution_count": null,
   "metadata": {},
   "outputs": [],
   "source": [
    "if True:\n",
    "    from mpl_toolkits.mplot3d import Axes3D\n",
    "    fig = plt.figure()\n",
    "    plt.clf()\n",
    "    ax = fig.gca(projection='3d')\n",
    "    contour=ax.plot_trisurf(x_np[0], x_np[1], gz_np[0]*tomGal , linewidth=0.2, antialiased=True, cmap=plt.cm.CMRmap)\n",
    "    plt.xlabel('$x_0$ [m]')\n",
    "    plt.ylabel('$x_1$ [m]')\n",
    "    plt.title(\"Vertical gravity $g_z$ [mGal]\")\n",
    "    plt.colorbar(contour)\n",
    "    plt.show()"
   ]
  },
  {
   "cell_type": "markdown",
   "metadata": {},
   "source": [
    "**Note**:\n",
    "For larger meshes with millions of element and also for 3D domains `matplotlib` is not really suitbale. \n",
    "Firstly its is just too slow but it also does not provide appropriate functionalities to deal with these kind of data. Alternative packages are \n",
    "- [mayavi](https://docs.enthought.com/mayavi/mayavi/)\n",
    "- [paraview](https://www.paraview.org/)\n",
    "- [visit](https://wci.llnl.gov/simulation/computer-codes/visit/)\n",
    "\n",
    "Although these packages can also be used from python it is more appropriate to use them separately trough their respective GUIs. To hand data to them `Data` objects are written to external files preferable in the `VTK` format. \n",
    "This can be done using the `saveVTK` function from the `esys.weipa` module, see the users guide for details."
   ]
  },
  {
   "cell_type": "markdown",
   "metadata": {},
   "source": [
    "## Value Picking\n",
    "\n",
    "Visualization of the distribution is often not sufficient for instance if one wants to apply a more quantitative \n",
    "analysis of the result; for instance comparison with a observations. There is a mechanism to pick values of `Data` objects at specific locations. "
   ]
  },
  {
   "cell_type": "markdown",
   "metadata": {},
   "source": [
    "### Single Value\n",
    "Here we want to obtain the vertical gravity at a point at a height $h=300$ m above the center of the circular anomaly located at $c$. The location of this point $\\mathbf{p}$ is then\n",
    "\\begin{equation}\\label{eq:P}\n",
    "\\mathbf{p}=(c_0, c_1+300)\n",
    "\\end{equation}\n",
    "We define a so-called `Locator` that provides a mechanism to extract the value at this point $\\mathbf{p}$.\n",
    "The `Locator` is build for the use at all `Data` objects with a specific `FunctionSpace` attribute; in our case\n",
    "that should be the same as for `gz`:"
   ]
  },
  {
   "cell_type": "code",
   "execution_count": 24,
   "metadata": {
    "tags": [
     "SOLUTION"
    ]
   },
   "outputs": [],
   "source": [
    "from esys.escript.pdetools import Locator\n",
    "p=[c[0], c[1]+300]\n",
    "point_locator=Locator(where=ReducedFunction(domain), x=p)"
   ]
  },
  {
   "cell_type": "markdown",
   "metadata": {},
   "source": [
    "Now we can easily get the value of `gz` at `p`:"
   ]
  },
  {
   "cell_type": "code",
   "execution_count": 25,
   "metadata": {
    "tags": [
     "SOLUTION"
    ]
   },
   "outputs": [
    {
     "ename": "NameError",
     "evalue": "name 'tomGal' is not defined",
     "output_type": "error",
     "traceback": [
      "\u001b[0;31m---------------------------------------------------------------------------\u001b[0m",
      "\u001b[0;31mNameError\u001b[0m                                 Traceback (most recent call last)",
      "\u001b[0;32m<ipython-input-25-cc9537e56e9c>\u001b[0m in \u001b[0;36m<module>\u001b[0;34m()\u001b[0m\n\u001b[1;32m      1\u001b[0m \u001b[0mv\u001b[0m\u001b[0;34m=\u001b[0m\u001b[0mpoint_locator\u001b[0m\u001b[0;34m.\u001b[0m\u001b[0mgetValue\u001b[0m\u001b[0;34m(\u001b[0m\u001b[0mgz\u001b[0m\u001b[0;34m)\u001b[0m\u001b[0;34m\u001b[0m\u001b[0;34m\u001b[0m\u001b[0m\n\u001b[0;32m----> 2\u001b[0;31m \u001b[0mprint\u001b[0m\u001b[0;34m(\u001b[0m\u001b[0;34m\"value of gz @ %s is %s mGal. \"\u001b[0m\u001b[0;34m%\u001b[0m\u001b[0;34m(\u001b[0m\u001b[0mpoint_locator\u001b[0m\u001b[0;34m.\u001b[0m\u001b[0mgetX\u001b[0m\u001b[0;34m(\u001b[0m\u001b[0;34m)\u001b[0m\u001b[0;34m,\u001b[0m \u001b[0mv\u001b[0m\u001b[0;34m*\u001b[0m\u001b[0mtomGal\u001b[0m\u001b[0;34m)\u001b[0m\u001b[0;34m)\u001b[0m\u001b[0;34m\u001b[0m\u001b[0;34m\u001b[0m\u001b[0m\n\u001b[0m",
      "\u001b[0;31mNameError\u001b[0m: name 'tomGal' is not defined"
     ]
    }
   ],
   "source": [
    "v=point_locator.getValue(gz)\n",
    "print(\"value of gz @ %s is %s mGal. \"%(point_locator.getX(), v*tomGal))"
   ]
  },
  {
   "cell_type": "markdown",
   "metadata": {},
   "source": [
    "The `Locator` actually is not always using the specified point but picks the location \n",
    "of the `FunctionSpace` nearest to the requested. In our case the point is actually moved by about $5$ m:"
   ]
  },
  {
   "cell_type": "code",
   "execution_count": 26,
   "metadata": {
    "tags": [
     "SOLUTION"
    ]
   },
   "outputs": [
    {
     "name": "stdout",
     "output_type": "stream",
     "text": [
      "target point was [500.0, 633.3333333333333].\n"
     ]
    }
   ],
   "source": [
    "print(\"target point was %s.\"%(p,))"
   ]
  },
  {
   "cell_type": "markdown",
   "metadata": {},
   "source": [
    "The `point_locator` can be reused to pick values from other `Data` objects as long as they can interpolated\n",
    "to `ReducedFunction`:"
   ]
  },
  {
   "cell_type": "code",
   "execution_count": 27,
   "metadata": {
    "tags": [
     "SOLUTION"
    ]
   },
   "outputs": [
    {
     "name": "stdout",
     "output_type": "stream",
     "text": [
      "value of g @ [ 495.  635.] is [  1.67666900e-07  -1.32564753e-05].\n"
     ]
    }
   ],
   "source": [
    "v2=point_locator.getValue(g)\n",
    "print(\"value of g @ %s is %s.\"%(point_locator.getX(), v2))"
   ]
  },
  {
   "cell_type": "markdown",
   "metadata": {},
   "source": [
    "### Along a line of points (transect)\n",
    "One can also use the `Locator` to pick data for a set of points for instance along a horizontal transect.\n",
    "First we define the $x_0$-coordinates of the points we would like to use:"
   ]
  },
  {
   "cell_type": "code",
   "execution_count": 28,
   "metadata": {},
   "outputs": [],
   "source": [
    "x0_transect=np.linspace(0., Lx, NEx)"
   ]
  },
  {
   "cell_type": "markdown",
   "metadata": {},
   "source": [
    "We then add the $x_1$ coordinate as $c_1+300$ to define the locations in the transect in the 2D domain:"
   ]
  },
  {
   "cell_type": "code",
   "execution_count": 29,
   "metadata": {
    "tags": [
     "SOLUTION"
    ]
   },
   "outputs": [
    {
     "name": "stdout",
     "output_type": "stream",
     "text": [
      "133.33333333333326\n"
     ]
    }
   ],
   "source": [
    "h=300\n",
    "x_transect=[ (x0, c[1]+h) for x0 in x0_transect]\n",
    "print(c[1]+h-Lz/2)"
   ]
  },
  {
   "cell_type": "markdown",
   "metadata": {},
   "source": [
    "Now we can create new `Locator` named `transect_locator` using the points `x_transect`:"
   ]
  },
  {
   "cell_type": "code",
   "execution_count": 30,
   "metadata": {
    "tags": [
     "SOLUTION"
    ]
   },
   "outputs": [],
   "source": [
    "transect_locator=Locator(where=ReducedFunction(domain), x=x_transect )"
   ]
  },
  {
   "cell_type": "markdown",
   "metadata": {},
   "source": [
    "Then the vertical gravity across the transect can be picked from `gz`. We also get the true $x_0$ coordinates \n",
    "of the points in the transect:"
   ]
  },
  {
   "cell_type": "code",
   "execution_count": 31,
   "metadata": {
    "tags": [
     "SOLUTION"
    ]
   },
   "outputs": [
    {
     "ename": "NameError",
     "evalue": "name 'tomGal' is not defined",
     "output_type": "error",
     "traceback": [
      "\u001b[0;31m---------------------------------------------------------------------------\u001b[0m",
      "\u001b[0;31mNameError\u001b[0m                                 Traceback (most recent call last)",
      "\u001b[0;32m<ipython-input-31-442b8de260e6>\u001b[0m in \u001b[0;36m<module>\u001b[0;34m()\u001b[0m\n\u001b[0;32m----> 1\u001b[0;31m \u001b[0mgz_transect\u001b[0m\u001b[0;34m=\u001b[0m\u001b[0mtransect_locator\u001b[0m\u001b[0;34m.\u001b[0m\u001b[0mgetValue\u001b[0m\u001b[0;34m(\u001b[0m\u001b[0mgz\u001b[0m\u001b[0;34m*\u001b[0m\u001b[0mtomGal\u001b[0m\u001b[0;34m)\u001b[0m\u001b[0;34m\u001b[0m\u001b[0;34m\u001b[0m\u001b[0m\n\u001b[0m\u001b[1;32m      2\u001b[0m \u001b[0mx0_transect\u001b[0m\u001b[0;34m=\u001b[0m\u001b[0;34m[\u001b[0m \u001b[0mx\u001b[0m\u001b[0;34m[\u001b[0m\u001b[0;36m0\u001b[0m\u001b[0;34m]\u001b[0m \u001b[0;32mfor\u001b[0m \u001b[0mx\u001b[0m \u001b[0;32min\u001b[0m \u001b[0mtransect_locator\u001b[0m\u001b[0;34m.\u001b[0m\u001b[0mgetX\u001b[0m\u001b[0;34m(\u001b[0m\u001b[0;34m)\u001b[0m\u001b[0;34m]\u001b[0m\u001b[0;34m\u001b[0m\u001b[0;34m\u001b[0m\u001b[0m\n",
      "\u001b[0;31mNameError\u001b[0m: name 'tomGal' is not defined"
     ]
    }
   ],
   "source": [
    "gz_transect=transect_locator.getValue(gz*tomGal)\n",
    "x0_transect=[ x[0] for x in transect_locator.getX()]"
   ]
  },
  {
   "cell_type": "markdown",
   "metadata": {},
   "source": [
    "And finally we can plot the vertical gravity over the transect:"
   ]
  },
  {
   "cell_type": "code",
   "execution_count": 32,
   "metadata": {
    "tags": [
     "SOLUTION"
    ]
   },
   "outputs": [
    {
     "ename": "NameError",
     "evalue": "name 'plt' is not defined",
     "output_type": "error",
     "traceback": [
      "\u001b[0;31m---------------------------------------------------------------------------\u001b[0m",
      "\u001b[0;31mNameError\u001b[0m                                 Traceback (most recent call last)",
      "\u001b[0;32m<ipython-input-32-ff3c36d4d1e4>\u001b[0m in \u001b[0;36m<module>\u001b[0;34m()\u001b[0m\n\u001b[0;32m----> 1\u001b[0;31m \u001b[0mplt\u001b[0m\u001b[0;34m.\u001b[0m\u001b[0mfigure\u001b[0m\u001b[0;34m(\u001b[0m\u001b[0mfigsize\u001b[0m\u001b[0;34m=\u001b[0m\u001b[0;34m(\u001b[0m\u001b[0;36m5\u001b[0m\u001b[0;34m,\u001b[0m\u001b[0;36m5\u001b[0m\u001b[0;34m)\u001b[0m\u001b[0;34m)\u001b[0m\u001b[0;34m\u001b[0m\u001b[0;34m\u001b[0m\u001b[0m\n\u001b[0m\u001b[1;32m      2\u001b[0m \u001b[0mplt\u001b[0m\u001b[0;34m.\u001b[0m\u001b[0mclf\u001b[0m\u001b[0;34m(\u001b[0m\u001b[0;34m)\u001b[0m\u001b[0;34m\u001b[0m\u001b[0;34m\u001b[0m\u001b[0m\n\u001b[1;32m      3\u001b[0m \u001b[0mplt\u001b[0m\u001b[0;34m.\u001b[0m\u001b[0mplot\u001b[0m\u001b[0;34m(\u001b[0m\u001b[0mx0_transect\u001b[0m\u001b[0;34m,\u001b[0m \u001b[0mgz_transect\u001b[0m\u001b[0;34m)\u001b[0m\u001b[0;34m\u001b[0m\u001b[0;34m\u001b[0m\u001b[0m\n\u001b[1;32m      4\u001b[0m \u001b[0mplt\u001b[0m\u001b[0;34m.\u001b[0m\u001b[0mxlabel\u001b[0m\u001b[0;34m(\u001b[0m\u001b[0;34m'offset [m]'\u001b[0m\u001b[0;34m)\u001b[0m\u001b[0;34m\u001b[0m\u001b[0;34m\u001b[0m\u001b[0m\n\u001b[1;32m      5\u001b[0m \u001b[0mplt\u001b[0m\u001b[0;34m.\u001b[0m\u001b[0mylabel\u001b[0m\u001b[0;34m(\u001b[0m\u001b[0;34m'$g_z$ [mGal]'\u001b[0m\u001b[0;34m)\u001b[0m\u001b[0;34m\u001b[0m\u001b[0;34m\u001b[0m\u001b[0m\n",
      "\u001b[0;31mNameError\u001b[0m: name 'plt' is not defined"
     ]
    }
   ],
   "source": [
    "plt.figure(figsize=(5,5))\n",
    "plt.clf()\n",
    "plt.plot(x0_transect, gz_transect)\n",
    "plt.xlabel('offset [m]')\n",
    "plt.ylabel('$g_z$ [mGal]')\n",
    "plt.title(\"gravity anomaly over transect @ height %g\"%(c[1]+h))\n",
    "plt.show()"
   ]
  }
 ],
 "metadata": {
  "celltoolbar": "Tags",
  "kernelspec": {
   "display_name": "Python 3",
   "language": "python",
   "name": "python3"
  },
  "language_info": {
   "codemirror_mode": {
    "name": "ipython",
    "version": 3
   },
   "file_extension": ".py",
   "mimetype": "text/x-python",
   "name": "python",
   "nbconvert_exporter": "python",
   "pygments_lexer": "ipython3",
   "version": "3.6.8"
  },
  "latex_envs": {
   "LaTeX_envs_menu_present": true,
   "autoclose": false,
   "autocomplete": false,
   "bibliofile": "biblio.bib",
   "cite_by": "apalike",
   "current_citInitial": 1,
   "eqLabelWithNumbers": true,
   "eqNumInitial": 1,
   "hotkeys": {
    "equation": "Ctrl-E",
    "itemize": "Ctrl-I"
   },
   "labels_anchors": false,
   "latex_user_defs": false,
   "report_style_numbering": false,
   "user_envs_cfg": false
  },
  "toc": {
   "base_numbering": 1,
   "nav_menu": {},
   "number_sections": true,
   "sideBar": true,
   "skip_h1_title": false,
   "title_cell": "Table of Contents",
   "title_sidebar": "Contents",
   "toc_cell": false,
   "toc_position": {},
   "toc_section_display": true,
   "toc_window_display": true
  },
  "varInspector": {
   "cols": {
    "lenName": 16,
    "lenType": 16,
    "lenVar": 40
   },
   "kernels_config": {
    "python": {
     "delete_cmd_postfix": "",
     "delete_cmd_prefix": "del ",
     "library": "var_list.py",
     "varRefreshCmd": "print(var_dic_list())"
    },
    "r": {
     "delete_cmd_postfix": ") ",
     "delete_cmd_prefix": "rm(",
     "library": "var_list.r",
     "varRefreshCmd": "cat(var_dic_list()) "
    }
   },
   "position": {
    "height": "752.85px",
    "left": "1550px",
    "right": "20px",
    "top": "120px",
    "width": "350px"
   },
   "types_to_exclude": [
    "module",
    "function",
    "builtin_function_or_method",
    "instance",
    "_Feature"
   ],
   "window_display": false
  }
 },
 "nbformat": 4,
 "nbformat_minor": 2
}
