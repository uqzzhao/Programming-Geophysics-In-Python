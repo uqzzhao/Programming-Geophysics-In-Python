{
 "cells": [
  {
   "cell_type": "markdown",
   "metadata": {},
   "source": [
    "# Magnetotellurics\n",
    "\n",
    "In this section we discuss how to solve the PDE for 2D magnetotellurics (MT) due to a variation of\n",
    "the electric conductivity $\\sigma$ in the subsurface using `esys.escript`. It is assumed that you have \n",
    "worked through the [introduction section on `esys.escript`](escriptBasics.ipynb). \n",
    "First we will provide the basic theory:\n",
    "\n",
    "## References\n",
    "\n",
    "\n",
    "- [Chave, A. D., & Jones, A. G. (Eds.) (2012). The magnetotelluric method: Theory and practice. New York: Cambridge University Press. ](https://doi.org/10.1017/CBO9781139020138)\n",
    "- [R. Schaa, L. Gross, J. du Plessis: “PDE-based geophysical modelling using Finite Elements: examples from 3-D resistivity and 2-D magnetotellurics”, 2016, Journal of Geophysics and Engineering, 13, S59-73](https://doi.org/10.1088/1742-2132/13/2/S59)\n",
    "- [Niwas, S., Gupta, P.K. & Gaur, V.K. J Earth Syst Sci (2005) 114: 523. https://doi.org/10.1007/BF02702028](https://doi.org/10.1007/BF02702028)"
   ]
  },
  {
   "cell_type": "markdown",
   "metadata": {},
   "source": [
    "\n",
    "## Maxwell's Equations in 2D\n",
    "\n",
    "In this prac we are investigating the magnetotellurics (MT) method. The MT\n",
    "is targeting to recover the distribution of the electric conductivity $\\sigma$ (in [S/m]) in the subsurface.\n",
    "It is an electro-magnetic method (EM) using natural sources of electro-magnetic fields a very low \n",
    "frequency which allows to target very deep targets ($>50km$) but at low resolution. \n",
    "Here we will focus on the case of $H$−polarisation (also known as TM mode). \n",
    "In this case it is assumed that the incoming magnetic field is polarized in direction $x$ perpendicular to the \n",
    "$yz$ plane of investigation. There is also the case of $E$ polarization (also known as TE mode) \n",
    "where the electric field polarized in the direction $x$.   \n",
    "\n",
    "For the TM mode the modeling equations are given as the a 2D simplification of the Maxwell's equations.\n",
    "For the given transversal magnetic field $H_x$ the vertical and \n",
    "horizontal components $E_z$ and $E_y$ of the electric field are given as \n",
    "\\begin{equation}\\label{eqTMEz}\n",
    "\\frac{\\partial H_x}{\\partial y }= - \\sigma E_z\n",
    "\\end{equation} \n",
    "\\begin{equation}\\label{eqTMEy}\n",
    "\\frac{\\partial H_x}{\\partial z }=  \\sigma E_y\n",
    "\\end{equation} \n",
    "The horizontal components then need to fulful the equation:\n",
    "\\begin{equation}\\label{eqMaxwell}\n",
    "\\frac{\\partial E_z}{\\partial y }  - \\frac{\\partial E_y}{ \\partial z } = - \\mathbf{j} \\omega \\mu_0 H_x\n",
    "\\end{equation}\n",
    "where $\\mathbf{j}$ is the complex unity, $\\omega$ is the angular frequency ([Hz]) \n",
    "and $\\mu_0= 4 \\pi \\cdot 10^{-7} \\frac{N}{A^2}$ is the magnetic constant."
   ]
  },
  {
   "cell_type": "markdown",
   "metadata": {},
   "source": [
    "## Impedance\n",
    "\n",
    "Field observations will deliver impedance as function of \n",
    "angular frequency $\\omega$. In the TM mode the impedance is given as \n",
    "\\begin{equation}\\label{eqImp}\n",
    "Z_{yx}(\\omega)=\\frac{E_y}{H_x}\n",
    "\\end{equation}\n",
    "This is a complex number. For interpretation an alternative representation\n",
    "based on apparent resistivity $\\rho_a$ and phase $\\phi$ is commonly used. \n",
    "These quantities are derived from the impedance $Z_{yx}$ as\n",
    "\\begin{equation}\\label{eqRhoa}\n",
    "\\rho_a(\\omega) =\\frac{1}{\\omega \\mu_0} |Z_{yx}(\\omega)|^2\n",
    "\\end{equation}\n",
    "and \n",
    "\\begin{equation}\\label{eqPhase}\n",
    "\\phi((\\omega)= \\arctan( \\frac{Z_{yx}(\\omega).imag}{Z_{yx}(\\omega).real})\n",
    "\\end{equation}\n",
    "For constant conductivity $\\sigma$. \n",
    "the apparent resistivity and the phase are frequency independent \n",
    "and calculate as \n",
    "\\begin{equation}\\label{eqRhoaHH}\n",
    "\\rho_a(\\omega) =\\frac{1}{\\sigma}\n",
    "\\end{equation}\n",
    "and \n",
    "\\begin{equation}\\label{eqPhaseHH}\n",
    "\\phi((\\omega)= 45^o\n",
    "\\end{equation}"
   ]
  },
  {
   "cell_type": "markdown",
   "metadata": {},
   "source": [
    "##  TM-mode in `esys-escript`\n",
    "\n",
    "Now we need to define the PDE using the  `LinearSinglePDE` PDE template PDE. We work in the $x_0=y$\n",
    "and $x_1=z$ coordinate system. \n",
    "\n",
    "Here we restate the template: When $u$ is the unknown\n",
    "we define the so-called flux vector $\\mathbf{F}$ which is in essence the negative gradient of the solution \n",
    "times some matrix $\\mathbf{A}$:\n",
    "\\begin{equation} \\label{EQESYSFLUX}\n",
    "\\mathbf{F} = - \\mathbf{A} \\mathbf{\\nabla} u + \\mathbf{X}\n",
    "\\end{equation} \n",
    "with matrix $\\mathbf{A}$ and vector  $\\mathbf{X}$\n",
    "The flux vector $\\mathbf{F}$ needs to fulfill the conservation equation : \n",
    "\\begin{equation}\\label{EQESYSCONSERVATION}\n",
    "\\mathbf{\\nabla}^t \\; \\mathbf{F} + D \\; u = Y \n",
    "\\end{equation}\n",
    "where $D$ is a scalar and $Y$ is the right hand side. \n",
    "\n",
    "The Maxwell equation \\eqref{eqMaxwell} in the $x_0,x_1$-coordinates reads as\n",
    "\\begin{equation}\\label{eqMaxwell2}\n",
    "\\frac{\\partial E_z}{\\partial x_0}  - \\frac{\\partial E_y}{ \\partial x_1 } + \\mathbf{j} \\omega \\mu_0 H_x =0\n",
    "\\end{equation}\n",
    "from which we can identfiy the $D=\\mathbf{j} \\omega \\mu_0$ and $Y=0$ and the flux\n",
    "\\begin{equation}\\label{EQFLUX1}\n",
    "\\mathbf{F} = \n",
    "\\begin{bmatrix}\n",
    " F_0 \\\\\n",
    " F_1\n",
    "\\end{bmatrix}\n",
    "= \\begin{bmatrix}\n",
    " E_z \\\\\n",
    " -E_y\n",
    "\\end{bmatrix}\n",
    "\\end{equation}\n",
    "The unknown of the problem becomes $u=H_x$ and \n",
    "using \\eqref{eqTMEz} and \\eqref{eqTMEy}\n",
    "hence the flux is given as \n",
    "\\begin{equation}\\label{EQFLUX2}\n",
    "\\mathbf{F} = \n",
    "\\begin{bmatrix}\n",
    " - \\frac{1}{\\sigma} \\frac{\\partial H_x}{\\partial y } \\\\\n",
    " - \\frac{1}{\\sigma} \\frac{\\partial H_x}{\\partial z } \n",
    "\\end{bmatrix}\n",
    "= - \n",
    "\\begin{bmatrix}\n",
    "\\frac{1}{\\sigma} \\frac{d u}{d x_0} & + & 0 \\frac{d u}{d x_1}\\\\\n",
    "0 \\frac{d u}{d x_0} & + & \\frac{1}{\\sigma} \\frac{d u}{d x_1}\n",
    "\\end{bmatrix}\n",
    "\\end{equation} \n",
    "This gives the matrix $\\mathbf{A}$\n",
    "\\begin{equation}\n",
    "\\begin{bmatrix}\n",
    "A_{00} & A_{01} \\\\\n",
    "A_{10}  & A_{11} \n",
    "\\end{bmatrix}= \n",
    "\\begin{bmatrix}\n",
    "\\frac{1}{\\sigma} & 0  \\\\\n",
    "0  & \\frac{1}{\\sigma} \n",
    "\\end{bmatrix}\n",
    "\\end{equation}\n",
    "and  $\\mathbf{X}=0$."
   ]
  },
  {
   "cell_type": "markdown",
   "metadata": {},
   "source": [
    "## Example Problem: Transects over a conductive Step \n",
    "\n",
    "We consider a step of a conductive media ($\\sigma_1=0.1$) within a resistive media ($\\sigma_0=0.001$)\n",
    "and want to calculate the distribution of the impedance along the surface. The step size is $3km$\n",
    "and the top of the conductive layer is located at depth $h_1=5km$.\n",
    "Use a domain of horizontal extend of $40km$ and depth of $80km$ with a grid spacing of $200m$.\n",
    "Plot the profile of the apparent resistivity and the phase for frequencies $f=0.01, 0.3, 10 Hz$.\n",
    "\n",
    " <img src=\"MTImage1.png\" alt=\"MT domain\" width=\"500\"> "
   ]
  },
  {
   "cell_type": "code",
   "execution_count": 1,
   "metadata": {},
   "outputs": [
    {
     "name": "stdout",
     "output_type": "stream",
     "text": [
      "Domain dimension = 40000 x 80000 m\n"
     ]
    }
   ],
   "source": [
    "NEy=200\n",
    "NEz=400\n",
    "dx=200   # [m] grid spacing\n",
    "Ly=dx*NEy\n",
    "Lz=dx*NEz\n",
    "print(\"Domain dimension = %d x %d m\"%(Ly, Lz))\n",
    "\n",
    "sigma1=0.001\n",
    "sigma2=0.1\n",
    "h1=5000.\n",
    "h2=10000.\n",
    "\n",
    "import numpy as np\n",
    "Mu0=4*np.pi*1e-7\n",
    "\n",
    "#%matplotlib notebook"
   ]
  },
  {
   "cell_type": "markdown",
   "metadata": {},
   "source": [
    "As before the first step is to set up the domain:"
   ]
  },
  {
   "cell_type": "code",
   "execution_count": 2,
   "metadata": {
    "tags": [
     "SOLUTION"
    ]
   },
   "outputs": [],
   "source": [
    "from esys.escript import *\n",
    "from esys.finley import Rectangle\n",
    "\n",
    "domain=Rectangle(n0=NEy, n1=NEz, l0=Ly, l1=Lz)"
   ]
  },
  {
   "cell_type": "markdown",
   "metadata": {},
   "source": [
    "Then we initiate the PDE we need to solve for $u=H_x$. We need to tell the `LinearSinglePDE` that the \n",
    "PDE has coefficients with complex values:"
   ]
  },
  {
   "cell_type": "code",
   "execution_count": 3,
   "metadata": {
    "tags": [
     "SOLUTION"
    ]
   },
   "outputs": [],
   "source": [
    "from esys.escript.linearPDEs import LinearSinglePDE\n",
    "pde=LinearSinglePDE(domain, isComplex=True)"
   ]
  },
  {
   "cell_type": "markdown",
   "metadata": {},
   "source": [
    "In general `esys.escript` tries to use iterative solvers for the discrete version of the PDE as this\n",
    "less memory demanding and in many cases very fast.\n",
    "In this particular application case we want make sure that a direct solver is used as due to the complex $D$ the\n",
    "PDE is not necessarily suitable for an iterative solver:  "
   ]
  },
  {
   "cell_type": "code",
   "execution_count": 4,
   "metadata": {
    "tags": [
     "SOLUTION"
    ]
   },
   "outputs": [],
   "source": [
    "from esys.escript.linearPDEs import SolverOptions\n",
    "pde.getSolverOptions().setSolverMethod(SolverOptions.DIRECT)"
   ]
  },
  {
   "cell_type": "markdown",
   "metadata": {},
   "source": [
    "The magnetic field is set to one at the top of the domain. As before we use \n",
    "`q` to describe the location at which the $u=H_x$ is prescribed namely at $x_1=z=Lz$. \n",
    "To set the actual value we use `r`. So far we always set the solution to zero and - as this is the default assumption - we did not to set a value (potentially a `Data` object) for `r`:"
   ]
  },
  {
   "cell_type": "code",
   "execution_count": 5,
   "metadata": {
    "tags": [
     "SOLUTION"
    ]
   },
   "outputs": [],
   "source": [
    "x=domain.getX()\n",
    "pde.setValue(r=1., q=whereZero(x[1]-Lz))"
   ]
  },
  {
   "cell_type": "markdown",
   "metadata": {},
   "source": [
    "The PDE coefficient `D` is obvious from \\eqref{eqMaxwell2}. We pick a frequency of $f=1Hz$."
   ]
  },
  {
   "cell_type": "code",
   "execution_count": 6,
   "metadata": {
    "tags": [
     "SOLUTION"
    ]
   },
   "outputs": [],
   "source": [
    "f=1. # Hz\n",
    "pde.setValue(D=1j*2*np.pi*f*Mu0)"
   ]
  },
  {
   "cell_type": "markdown",
   "metadata": {},
   "source": [
    "Setting the conductivity distribution needs a bit of thinking. We first introduce \n",
    "to masks; `m1` which is one for locations below $L_z-h_1$ for the step of\n",
    "the left side and `m2` which is one for locations below $L_z-h_2$ for the step of\n",
    "the right side:"
   ]
  },
  {
   "cell_type": "code",
   "execution_count": 7,
   "metadata": {
    "tags": [
     "SOLUTION"
    ]
   },
   "outputs": [],
   "source": [
    "X=Function(domain).getX()\n",
    "m1=whereNegative(X[1]-(Lz-h1))\n",
    "m2=whereNegative(X[1]-(Lz-h2))"
   ]
  },
  {
   "cell_type": "markdown",
   "metadata": {},
   "source": [
    "As said `m1` is used on the left part of the domain where $x_0<\\frac{Ly}{2}$ while on\n",
    "the other side `m2` is used. We use an additional mask `mH` to separate the two sides: "
   ]
  },
  {
   "cell_type": "code",
   "execution_count": 8,
   "metadata": {
    "tags": [
     "SOLUTION"
    ]
   },
   "outputs": [],
   "source": [
    "mH=whereNegative(X[0]-Ly/2)\n",
    "m=m1*mH+m2*(1-mH)"
   ]
  },
  {
   "cell_type": "markdown",
   "metadata": {},
   "source": [
    "Now we have a mask `m` which is has value one for the step basement. This allows us to set the \n",
    "conductivity `SigmaS`:"
   ]
  },
  {
   "cell_type": "code",
   "execution_count": 9,
   "metadata": {
    "tags": [
     "SOLUTION"
    ]
   },
   "outputs": [],
   "source": [
    "sigmaS=sigma1*(1-m)+sigma2*m"
   ]
  },
  {
   "cell_type": "markdown",
   "metadata": {},
   "source": [
    "Let's take a look at `sigmaS`. To reduce the calculation time for the rendering  `sigmaS` is interpolated \n",
    "from integration points to element centers prior to visualization."
   ]
  },
  {
   "cell_type": "code",
   "execution_count": 10,
   "metadata": {
    "tags": [
     "SOLUTION"
    ]
   },
   "outputs": [
    {
     "data": {
      "text/plain": [
       "<matplotlib.colorbar.Colorbar at 0x7fe36e08dc50>"
      ]
     },
     "execution_count": 10,
     "metadata": {},
     "output_type": "execute_result"
    }
   ],
   "source": [
    "sigmaS_np=convertToNumpy(interpolate(sigmaS, ReducedFunction(domain)))\n",
    "x_np=convertToNumpy(ReducedFunction(domain).getX())\n",
    "\n",
    "import matplotlib.pyplot as plt\n",
    "plt.figure(figsize=(5,5))\n",
    "plt.tricontourf(x_np[0], x_np[1], sigmaS_np[0], 15)\n",
    "plt.xlabel('y [m]')\n",
    "plt.ylabel('z [m]')\n",
    "plt.title(\"Conductivity distribution\")\n",
    "plt.colorbar()"
   ]
  },
  {
   "cell_type": "markdown",
   "metadata": {},
   "source": [
    "Ready to set the `A` coefficient:"
   ]
  },
  {
   "cell_type": "code",
   "execution_count": 11,
   "metadata": {},
   "outputs": [],
   "source": [
    "pde.setValue(A=1./sigmaS*kronecker(domain)) "
   ]
  },
  {
   "cell_type": "markdown",
   "metadata": {},
   "source": [
    "Now we can get the solution $u=H_x$:"
   ]
  },
  {
   "cell_type": "code",
   "execution_count": 12,
   "metadata": {
    "tags": [
     "SOLUTION"
    ]
   },
   "outputs": [
    {
     "name": "stdout",
     "output_type": "stream",
     "text": [
      "Summary: inf=1.55785e-20 sup=1 data points=80601\n"
     ]
    }
   ],
   "source": [
    "Hx=pde.getSolution()\n",
    "print(abs(Hx))"
   ]
  },
  {
   "cell_type": "markdown",
   "metadata": {},
   "source": [
    "Impedance is obtained from the definition. We look at the value at element centers."
   ]
  },
  {
   "cell_type": "code",
   "execution_count": 13,
   "metadata": {
    "tags": [
     "SOLUTION"
    ]
   },
   "outputs": [],
   "source": [
    "Ey=1./sigmaS*grad(Hx, ReducedFunction(domain))[1]\n",
    "Zyx=Ey/Hx\n",
    "\n",
    "rho_a=1./(2*np.pi*f*Mu0)*abs(Zyx)**2\n",
    "phi=phase(Zyx)"
   ]
  },
  {
   "cell_type": "markdown",
   "metadata": {},
   "source": [
    "Let's plot the distribution of the apparent resistivity:"
   ]
  },
  {
   "cell_type": "code",
   "execution_count": 14,
   "metadata": {
    "tags": [
     "SOLUTION"
    ]
   },
   "outputs": [
    {
     "name": "stdout",
     "output_type": "stream",
     "text": [
      "[[  7.11504064e-02   7.11546515e-02   7.11631519e-02 ...,   7.42011714e+02\n",
      "    7.42027449e+02   7.42035311e+02]]\n"
     ]
    },
    {
     "data": {
      "text/plain": [
       "<matplotlib.colorbar.Colorbar at 0x7fe36df4a780>"
      ]
     },
     "execution_count": 14,
     "metadata": {},
     "output_type": "execute_result"
    },
    {
     "data": {
      "image/png": "[encoded data removed]",
      "text/plain": [
       "<matplotlib.figure.Figure at 0x7fe3a48a4908>"
      ]
     },
     "metadata": {},
     "output_type": "display_data"
    }
   ],
   "source": [
    "rho_a_np=convertToNumpy(rho_a)\n",
    "x_np=convertToNumpy(rho_a.getFunctionSpace().getX())\n",
    "print(rho_a_np)\n",
    "\n",
    "import matplotlib.pyplot as plt\n",
    "plt.figure(figsize=(5,5))\n",
    "plt.tricontourf(x_np[0], x_np[1], log(rho_a_np[0]), 15)\n",
    "plt.xlabel('y [m]')\n",
    "plt.ylabel('z [m]')\n",
    "plt.title(\"log of apparent resitivity\")\n",
    "plt.colorbar()"
   ]
  },
  {
   "cell_type": "markdown",
   "metadata": {},
   "source": [
    "Field data are collected along transects at the surface. Lets plot the apparent resistivity and \n",
    "phase along the surface. \n",
    "We first define a `Locator` for the points at/near the surface:"
   ]
  },
  {
   "cell_type": "code",
   "execution_count": 15,
   "metadata": {},
   "outputs": [],
   "source": [
    "from esys.escript.pdetools import Locator\n",
    "locations_in_transect=[]\n",
    "for k in range(NEy): \n",
    "    x_t=dx*k+dx/2.\n",
    "    locations_in_transect.append( [x_t, Lz ] ) \n",
    "locator_transect=Locator(where=ReducedFunction(domain), x=locations_in_transect)"
   ]
  },
  {
   "cell_type": "markdown",
   "metadata": {},
   "source": [
    "Get the horizontal locations along the transect (just in case they have changed):"
   ]
  },
  {
   "cell_type": "code",
   "execution_count": 16,
   "metadata": {},
   "outputs": [],
   "source": [
    "transect_x=[ x[0] for x in locator_transect.getX()]"
   ]
  },
  {
   "cell_type": "markdown",
   "metadata": {},
   "source": [
    "Grab the values for apparent resistivity and phase and then plot"
   ]
  },
  {
   "cell_type": "code",
   "execution_count": 17,
   "metadata": {
    "tags": [
     "SOLUTION"
    ]
   },
   "outputs": [],
   "source": [
    "rho_a_x=locator_transect(rho_a)\n",
    "phi_x=locator_transect(phi*180/np.pi)"
   ]
  },
  {
   "cell_type": "code",
   "execution_count": 18,
   "metadata": {
    "tags": [
     "SOLUTION"
    ]
   },
   "outputs": [
    {
     "data": {
      "text/plain": [
       "Text(0.5,1,'Resistivity vs offset')"
      ]
     },
     "execution_count": 18,
     "metadata": {},
     "output_type": "execute_result"
    },
    {
     "data": {
      "image/png": "[encoded data removed]",
      "text/plain": [
       "<matplotlib.figure.Figure at 0x7fe3772c9358>"
      ]
     },
     "metadata": {},
     "output_type": "display_data"
    }
   ],
   "source": [
    "plt.figure(figsize=(10,5))\n",
    "plt.clf()\n",
    "plt.plot(transect_x,rho_a_x)\n",
    "plt.xlabel('y [m]')\n",
    "plt.ylabel('resistivity [m]')\n",
    "plt.title(\"Resistivity vs offset\")"
   ]
  },
  {
   "cell_type": "code",
   "execution_count": 19,
   "metadata": {
    "tags": [
     "SOLUTION"
    ]
   },
   "outputs": [
    {
     "data": {
      "text/plain": [
       "Text(0.5,1,'Phase vs offset')"
      ]
     },
     "execution_count": 19,
     "metadata": {},
     "output_type": "execute_result"
    },
    {
     "data": {
      "image/png": "[encoded data removed]",
      "text/plain": [
       "<matplotlib.figure.Figure at 0x7fe36dec9390>"
      ]
     },
     "metadata": {},
     "output_type": "display_data"
    }
   ],
   "source": [
    "plt.figure(figsize=(10,5))\n",
    "plt.clf()\n",
    "plt.plot(transect_x,phi_x)\n",
    "plt.xlabel('y [m]')\n",
    "plt.ylabel('phase [deg]')\n",
    "plt.title(\"Phase vs offset\")"
   ]
  }
 ],
 "metadata": {
  "celltoolbar": "Tags",
  "kernelspec": {
   "display_name": "Python 3",
   "language": "python",
   "name": "python3"
  },
  "language_info": {
   "codemirror_mode": {
    "name": "ipython",
    "version": 3
   },
   "file_extension": ".py",
   "mimetype": "text/x-python",
   "name": "python",
   "nbconvert_exporter": "python",
   "pygments_lexer": "ipython3",
   "version": "3.6.8"
  },
  "latex_envs": {
   "LaTeX_envs_menu_present": true,
   "autoclose": false,
   "autocomplete": true,
   "bibliofile": "biblio.bib",
   "cite_by": "apalike",
   "current_citInitial": 1,
   "eqLabelWithNumbers": true,
   "eqNumInitial": 1,
   "hotkeys": {
    "equation": "Ctrl-E",
    "itemize": "Ctrl-I"
   },
   "labels_anchors": false,
   "latex_user_defs": false,
   "report_style_numbering": false,
   "user_envs_cfg": false
  },
  "toc": {
   "base_numbering": 1,
   "nav_menu": {},
   "number_sections": true,
   "sideBar": true,
   "skip_h1_title": false,
   "title_cell": "Table of Contents",
   "title_sidebar": "Contents",
   "toc_cell": false,
   "toc_position": {
    "height": "calc(100% - 180px)",
    "left": "10px",
    "top": "150px",
    "width": "384px"
   },
   "toc_section_display": true,
   "toc_window_display": true
  },
  "varInspector": {
   "cols": {
    "lenName": 16,
    "lenType": 16,
    "lenVar": 40
   },
   "kernels_config": {
    "python": {
     "delete_cmd_postfix": "",
     "delete_cmd_prefix": "del ",
     "library": "var_list.py",
     "varRefreshCmd": "print(var_dic_list())"
    },
    "r": {
     "delete_cmd_postfix": ") ",
     "delete_cmd_prefix": "rm(",
     "library": "var_list.r",
     "varRefreshCmd": "cat(var_dic_list()) "
    }
   },
   "position": {
    "height": "752.85px",
    "left": "1550px",
    "right": "20px",
    "top": "120px",
    "width": "350px"
   },
   "types_to_exclude": [
    "module",
    "function",
    "builtin_function_or_method",
    "instance",
    "_Feature"
   ],
   "window_display": false
  }
 },
 "nbformat": 4,
 "nbformat_minor": 2
}
