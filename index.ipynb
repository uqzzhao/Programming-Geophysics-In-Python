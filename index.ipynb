{
 "cells": [
  {
   "cell_type": "markdown",
   "metadata": {},
   "source": [
    "# Introduction to geophysical data processing and modeling using Python\n",
    "    \n",
    "       "
   ]
  },
  {
   "cell_type": "markdown",
   "metadata": {},
   "source": [
    "## Notebooks\n",
    "\n",
    "<ol>\n",
    "<li>Python\n",
    " <ol>\n",
    "    <li><a href=\"A_Python/Basics.ipynb\">Basics</a>\n",
    "    <li><a href=\"A_Python/ProgrammingElements.ipynb\">Elements of Programming</a>\n",
    "    <li><a href=\"A_Python/Exercise1.ipynb\">Exercises 1</a>\n",
    "    <li><a href=\"A_Python/FilesAndVisualization.ipynb\">Files and Visualization</a>\n",
    "    <li><a href=\"A_Arrays/Arrays.ipynb\">Arrays</a>\n",
    "     <li><a href=\"A_Arrays/Kriging.ipynb\">Application: Kriging</a>\n",
    "    <li><a href=\"A_Python/Exercise2.ipynb\">Exercises 2</a>\n",
    " </ol>\n",
    " </li>\n",
    "<li>Geophysical Modeling\n",
    "<ol>\n",
    "    <li><a href=\"B_GeophyicalModeling/EscriptBasics.ipynb\">Introduction to esys-escript</a>\n",
    "    <li><a href=\"B_GeophyicalModeling/Magnetic.ipynb\">Magnetic Anomalies</a>\n",
    "    <li><a href=\"B_GeophyicalModeling/Magnetotellurics.ipynb\">Magnetotellurics</a>\n",
    "    <li><a href=\"B_GeophyicalModeling/Wavefrequency.ipynb\">Waves in Frequency Domain</a>\n",
    "    <li><a href=\"B_GeophyicalModeling/Wavetime.ipynb\">Waves in Time Domain</a>\n",
    "    <li><a href=\"B_GeophyicalModeling/Exercise.ipynb\">Exercises</a>\n",
    "</ol>\n",
    "<li>Seismic Data Processing</li>\n",
    "<ol>\n",
    "<li><a href=\"C_SeismicDataProcessing/01 Read and write SEG-Y file.ipynb\"> Read and write SEG-Y file</a>\n",
    "    <li><a href=\"C_SeismicDataProcessing/02 Display inline xline and slice.ipynb\"> Display inline xline and slice</a>\n",
    "    <li><a href=\"C_SeismicDataProcessing/03 Ray tracing for travel time calculation.ipynb\">Ray tracing for travel time calculation</a>\n",
    "    <li><a href=\"C_SeismicDataProcessing/04 Synthetic Seismogram.ipynb\"> Synthetic Seismogram</a>\n",
    " \n",
    "</ol> \n",
    "</li>\n",
    "</ol>     "
   ]
  },
  {
   "cell_type": "markdown",
   "metadata": {},
   "source": [
    "## Useful Links\n",
    "\n",
    "### `python`\n",
    "- [home page](https://docs.python.org)\n",
    "- [python tutorial](https://docs.python.org/3/tutorial)\n",
    "- [matplotlib](https://matplotlib.org)\n",
    "- [numpy](https://numpy.org)\n",
    "\n",
    "\n",
    "\n",
    "### `esys.escript`\n",
    "- [home page](https://launchpad.net/escript-finley)\n",
    "- [Researchgate](https://www.researchgate.net/project/esys-escript)\n",
    "- [user's guide](https://launchpad.net/escript-finley/3.0+/5.4/+download/docs.zip)\n",
    "- [API documentation](https://esys-escript.readthedocs.io/en/latest/index.html)\n"
   ]
  },
  {
   "cell_type": "code",
   "execution_count": null,
   "metadata": {},
   "outputs": [],
   "source": []
  }
 ],
 "metadata": {
  "kernelspec": {
   "display_name": "Python 3",
   "language": "python",
   "name": "python3"
  },
  "language_info": {
   "codemirror_mode": {
    "name": "ipython",
    "version": 3
   },
   "file_extension": ".py",
   "mimetype": "text/x-python",
   "name": "python",
   "nbconvert_exporter": "python",
   "pygments_lexer": "ipython3",
   "version": "3.6.8"
  },
  "latex_envs": {
   "LaTeX_envs_menu_present": true,
   "autoclose": false,
   "autocomplete": true,
   "bibliofile": "biblio.bib",
   "cite_by": "apalike",
   "current_citInitial": 1,
   "eqLabelWithNumbers": true,
   "eqNumInitial": 1,
   "hotkeys": {
    "equation": "Ctrl-E",
    "itemize": "Ctrl-I"
   },
   "labels_anchors": false,
   "latex_user_defs": false,
   "report_style_numbering": false,
   "user_envs_cfg": false
  },
  "toc": {
   "base_numbering": 1,
   "nav_menu": {},
   "number_sections": true,
   "sideBar": true,
   "skip_h1_title": false,
   "title_cell": "Table of Contents",
   "title_sidebar": "Contents",
   "toc_cell": false,
   "toc_position": {},
   "toc_section_display": true,
   "toc_window_display": false
  },
  "varInspector": {
   "cols": {
    "lenName": 16,
    "lenType": 16,
    "lenVar": 40
   },
   "kernels_config": {
    "python": {
     "delete_cmd_postfix": "",
     "delete_cmd_prefix": "del ",
     "library": "var_list.py",
     "varRefreshCmd": "print(var_dic_list())"
    },
    "r": {
     "delete_cmd_postfix": ") ",
     "delete_cmd_prefix": "rm(",
     "library": "var_list.r",
     "varRefreshCmd": "cat(var_dic_list()) "
    }
   },
   "types_to_exclude": [
    "module",
    "function",
    "builtin_function_or_method",
    "instance",
    "_Feature"
   ],
   "window_display": false
  }
 },
 "nbformat": 4,
 "nbformat_minor": 2
}
