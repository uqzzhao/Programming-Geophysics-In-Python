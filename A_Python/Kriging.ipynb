{
 "cells": [
  {
   "cell_type": "markdown",
   "metadata": {},
   "source": [
    "## Kriging\n",
    "\n",
    "Kriging is a method of typically spatial interpolation for which the interpolated values are modeled by a Gaussian process governed by prior covariances. Input data are measurement for a quantity $Q$  on some locations $\\mathbf{x}_i$ and the objective is to provide an estimate of that quantity $Q$ at given location. \n",
    "It is also assumed that the spatial correlation of the quantity in terms of a covariance matrix $C$ is known where\n",
    "\\begin{equation}\\label{eqCov}\n",
    "C(\\mathbf{x},\\mathbf{y}) = \\gamma(h)\n",
    "\\end{equation}\n",
    "where $h$ is the distance of of the points $\\mathbf{x}$ and $\\mathbf{y}$ and $\\gamma$ is the so called \n",
    "variogram which is describing the degree of spatial dependence of a spatial random field $Q(\\mathbf{x})$.\n",
    "\n",
    "<img src=\"https://vsp.pnnl.gov/help/image/Variogram.gif\">\n",
    "\n",
    "The first task is to estimate the variogram $\\gamma$ from the data.\n",
    "We will do this for the data set [FE.csv](FE.csv) which has three columns, x-position and y-position of\n",
    "measurement points and the iron content measured at this point. The first three rows of the file containing some\n",
    "additional information are skipped.\n",
    "\n",
    "### Reference:\n",
    "- [Kitanidis, P.K. (1997) Introduction to Geostatistics: Applications in Hydrogeology, Cambridge University Press.](https://www.cambridge.org/gb/academic/subjects/earth-and-environmental-science/hydrology-hydrogeology-and-water-resources/introduction-geostatistics-applications-hydrogeology?format=PB&isbn=9780521587471) "
   ]
  },
  {
   "cell_type": "code",
   "execution_count": 1,
   "metadata": {
    "tags": [
     "SOLUTION"
    ]
   },
   "outputs": [],
   "source": [
    "import numpy as np\n",
    "#%matplotlib notebook"
   ]
  },
  {
   "cell_type": "code",
   "execution_count": 2,
   "metadata": {
    "tags": [
     "SOLUTION"
    ]
   },
   "outputs": [
    {
     "name": "stdout",
     "output_type": "stream",
     "text": [
      "number of records = (50, 3)\n"
     ]
    }
   ],
   "source": [
    "data=np.loadtxt(\"./FE.csv\", skiprows=3, delimiter=',')\n",
    "print(\"number of records =\",data.shape)"
   ]
  },
  {
   "cell_type": "markdown",
   "metadata": {},
   "source": [
    "We obtain the arrays of $x$, $y$ and iron content: "
   ]
  },
  {
   "cell_type": "code",
   "execution_count": 3,
   "metadata": {
    "tags": [
     "SOLUTION"
    ]
   },
   "outputs": [],
   "source": [
    "x=data[:,0]\n",
    "y=data[:,1]\n",
    "q=data[:,2]\n",
    "Ndata=x.shape[0]"
   ]
  },
  {
   "cell_type": "markdown",
   "metadata": {},
   "source": [
    "Lets plot the locations of the measurement points:"
   ]
  },
  {
   "cell_type": "code",
   "execution_count": 4,
   "metadata": {
    "tags": [
     "SOLUTION"
    ]
   },
   "outputs": [
    {
     "data": {
      "text/plain": [
       "Text(0.5,1,'FE score station position')"
      ]
     },
     "execution_count": 4,
     "metadata": {},
     "output_type": "execute_result"
    }
   ],
   "source": [
    "\n",
    "import matplotlib.pyplot as plt\n",
    "\n",
    "plt.figure()\n",
    "plt.scatter(x, y, s=4)\n",
    "plt.xlabel('easting[m]')\n",
    "plt.ylabel('northing[m]')\n",
    "plt.grid(True)\n",
    "plt.title(\"FE score station position\")"
   ]
  },
  {
   "cell_type": "markdown",
   "metadata": {},
   "source": [
    "A variogram is estimated based on a so called experimental variogram where the \n",
    "interval of possible distances $h$ is subdivided in to bins $B_i$ of constant bin size and \n",
    "the following quantity is calculated for each bin:\n",
    "\\begin{equation}\\label{eq:EGamma}\n",
    "\\gamma_i = \\frac{1}{2N_i} \\sum_{(k,l) \\in B_i} (q_k-q_l)^2 \n",
    "\\end{equation}\n",
    "where $(k,l) \\in B_i$ means that the distance \n",
    "\\begin{equation}\\label{eq:dist}\n",
    "h_{kl} = | \\mathbf{x}_k-\\mathbf{x}_l|^2 \n",
    "\\end{equation}\n",
    "between the two measurement points $\\mathbf{x}_k$ and $\\mathbf{x}_l$ is within the bin $B_i$. \n",
    "$q_k$ and $q_l$ are the observations at $\\mathbf{x}_k$ and $\\mathbf{x}_l$.\n",
    "\n",
    "To implement this we start to find the maximum and minimum distance between two observation points:"
   ]
  },
  {
   "cell_type": "code",
   "execution_count": 5,
   "metadata": {
    "tags": [
     "SOLUTION"
    ]
   },
   "outputs": [],
   "source": [
    "hmin=x.max()\n",
    "hmax=0\n",
    "for i in range(Ndata):\n",
    "    for j in range(i+1, Ndata):\n",
    "        h=np.sqrt((x[i]-x[j])**2+(y[i]-y[j])**2)\n",
    "        hmin=min(hmin, h)\n",
    "        hmax=max(hmax, h)"
   ]
  },
  {
   "cell_type": "code",
   "execution_count": 6,
   "metadata": {
    "tags": [
     "SOLUTION"
    ]
   },
   "outputs": [
    {
     "data": {
      "text/plain": [
       "(7.0710678118654755, 501.32324901205209)"
      ]
     },
     "execution_count": 6,
     "metadata": {},
     "output_type": "execute_result"
    }
   ],
   "source": [
    "hmin, hmax"
   ]
  },
  {
   "cell_type": "markdown",
   "metadata": {},
   "source": [
    "The minimum distance should be positive!"
   ]
  },
  {
   "cell_type": "code",
   "execution_count": 7,
   "metadata": {
    "tags": [
     "SOLUTION"
    ]
   },
   "outputs": [],
   "source": [
    "assert hmin>0"
   ]
  },
  {
   "cell_type": "markdown",
   "metadata": {},
   "source": [
    "We create `Nbins` =20 bins using `Nbins+1` points:"
   ]
  },
  {
   "cell_type": "code",
   "execution_count": 8,
   "metadata": {
    "tags": [
     "SOLUTION"
    ]
   },
   "outputs": [],
   "source": [
    "Nbins=20\n",
    "bins=np.linspace(hmin, hmax, num=Nbins+1)"
   ]
  },
  {
   "cell_type": "markdown",
   "metadata": {},
   "source": [
    "the distance between two bin boundaries make the bin size:"
   ]
  },
  {
   "cell_type": "code",
   "execution_count": 9,
   "metadata": {
    "tags": [
     "SOLUTION"
    ]
   },
   "outputs": [
    {
     "name": "stdout",
     "output_type": "stream",
     "text": [
      "bin size =  24.71260906\n"
     ]
    }
   ],
   "source": [
    "bin_size=bins[1]-bins[0]\n",
    "print(\"bin size = \",bin_size)"
   ]
  },
  {
   "cell_type": "markdown",
   "metadata": {},
   "source": [
    "The arrays `gamma` and `count` accumulate the values of the summation \\eqref{eq:EGamma} and\n",
    "the number of hits in each bin:"
   ]
  },
  {
   "cell_type": "code",
   "execution_count": 10,
   "metadata": {
    "tags": [
     "SOLUTION"
    ]
   },
   "outputs": [],
   "source": [
    "gamma=np.zeros((Nbins,))\n",
    "count=np.zeros((Nbins,))\n",
    "for i in range(data.shape[0]):\n",
    "    for j in range(i+1, data.shape[0]):\n",
    "        h=np.sqrt((x[i]-x[j])**2+(y[i]-y[j])**2)\n",
    "        ib=min(int((h-hmin)/bin_size),Nbins-1)\n",
    "        gamma[ib]+=(q[i]-q[j])**2\n",
    "        count[ib]+=1"
   ]
  },
  {
   "cell_type": "markdown",
   "metadata": {},
   "source": [
    "now some rescaling as requested by \\eqref{eq:EGamma}"
   ]
  },
  {
   "cell_type": "code",
   "execution_count": 11,
   "metadata": {
    "tags": [
     "SOLUTION"
    ]
   },
   "outputs": [],
   "source": [
    "gamma=gamma/count/2"
   ]
  },
  {
   "cell_type": "markdown",
   "metadata": {},
   "source": [
    "We plot the experimental variogram versus the bin center:"
   ]
  },
  {
   "cell_type": "code",
   "execution_count": 12,
   "metadata": {
    "tags": [
     "SOLUTION"
    ]
   },
   "outputs": [
    {
     "data": {
      "text/plain": [
       "Text(0.5,1,'variogram')"
      ]
     },
     "execution_count": 12,
     "metadata": {},
     "output_type": "execute_result"
    },
    {
     "data": {
      "image/png": "[encoded data removed]",
      "text/plain": [
       "<matplotlib.figure.Figure at 0x7f9269f99320>"
      ]
     },
     "metadata": {},
     "output_type": "display_data"
    }
   ],
   "source": [
    "plt.figure()\n",
    "plt.scatter(bins[:Nbins]+bin_size/2, gamma, c='b', label=\"experimental\")\n",
    "plt.xlabel(\"lag h [m]\")\n",
    "plt.ylabel(\"gamma\")\n",
    "plt.grid(True)\n",
    "plt.title(\"variogram\")"
   ]
  },
  {
   "cell_type": "markdown",
   "metadata": {},
   "source": [
    "We need to fit an analytic expression to the experimental variogram. Here we use the exponential variogram\n",
    "\\begin{equation}\\label{eq:expvario}\n",
    "\\gamma(h)=s \\cdot (1- e^{-\\frac{3h}{a}})\n",
    "\\end{equation}\n",
    "where $a$ is called range and $s$ is called sill.\n",
    "Let's put this into a function `getVarioGram` for later use:"
   ]
  },
  {
   "cell_type": "code",
   "execution_count": 13,
   "metadata": {
    "tags": [
     "SOLUTION"
    ]
   },
   "outputs": [],
   "source": [
    "s=25\n",
    "a=200\n",
    "def getVarioGram(h):\n",
    "    return s-s*np.exp(-h/(a/3))"
   ]
  },
  {
   "cell_type": "markdown",
   "metadata": {},
   "source": [
    "To visually fit the exponential variogram to experimental variogram we plot both in the same figure:"
   ]
  },
  {
   "cell_type": "code",
   "execution_count": 14,
   "metadata": {
    "tags": [
     "SOLUTION"
    ]
   },
   "outputs": [
    {
     "data": {
      "text/plain": [
       "Text(0.5,1,'variogram')"
      ]
     },
     "execution_count": 14,
     "metadata": {},
     "output_type": "execute_result"
    },
    {
     "data": {
      "image/png": "[encoded data removed]",
      "text/plain": [
       "<matplotlib.figure.Figure at 0x7f9269f8efd0>"
      ]
     },
     "metadata": {},
     "output_type": "display_data"
    }
   ],
   "source": [
    "h=np.arange(0, hmax, 1.)\n",
    "plt.figure()\n",
    "plt.scatter(bins[:Nbins]+bin_size/2, gamma, c='b', label=\"experimental\")\n",
    "plt.plot(h, getVarioGram(h), c='r', label=\"fitted\")\n",
    "plt.xlabel(\"lag h [m]\")\n",
    "plt.ylabel(\"gamma\")\n",
    "plt.grid(True)\n",
    "plt.title(\"variogram\")"
   ]
  },
  {
   "cell_type": "markdown",
   "metadata": {},
   "source": [
    "The idea of ordinary kriging is to build an estimator for the quantity $Q$ at an arbitrary point  $\\mathbf{x}$ using the available \n",
    "measurements $q_i$ at points $\\mathbf{x}_i$ and the variogram $\\gamma$. To this the observations at the observation points $\\mathbf{x}_i$\n",
    "and the prediction point $\\mathbf{x}$ are treated as random variables $Q_i$ and $Q$. The approach  is to construct \n",
    "an linear estimator $\\hat{Q}$ for $Q$:\n",
    "\\begin{equation}\\label{eq:EST1}\n",
    "\\hat{Q} = \\sum_{i} v_i Q_i\n",
    "\\end{equation}\n",
    "with unknown coefficients $v_i$. The estimator should be unbiased which means that it preserves the expectation values (ie. $E(Q)=E(Q_i)$)\n",
    "which leads to the condition \n",
    "\\begin{equation}\\label{eq:EST2}\n",
    "1 =  \\sum_{k} v_k \n",
    "\\end{equation}\n",
    "A second condition is that the prediction error of $\\hat{Q}$ for $Q$ in form of the variance should be minimal (ie. $\\min_{v_0, \\ldots v_N} V(Q-\\hat{Q})$). The minimization prioblem can be solved using the fact that covariance\n",
    "of $Q_i$ and $Q_k$ is (in essence) known through the varigram \n",
    "\\begin{equation}\\label{eq:EST3}\n",
    "C(Q_i,Q_k)=\\gamma_{ik} =  \\gamma(h_{ij}) \\mbox{ with } h_{ij}=|\\mathbf{x}_i-\\mathbf{x}_j|\n",
    "\\end{equation}\n",
    "and\n",
    "\\begin{equation}\\label{eq:EST4}\n",
    "C(Q_i,Q)=\\gamma_{i} =  \\gamma(h_{i}) \\mbox{ with } h_{i}=|\\mathbf{x}_i-\\mathbf{x}|\n",
    "\\end{equation}\n",
    "The minimization leads to the equations:\n",
    "\\begin{equation}\\label{eq:EST5}\n",
    "\\sum_{k} v_k  \\gamma_{ik} + \\lambda = \\gamma_i\n",
    "\\end{equation}\n",
    "for the coefficients $v_i$ and the Lagrangean multiplier $\\lambda$ which is introduced to deal with the fact that the\n",
    "$v_i$'s are constraint by \\eqref{eq:EST2}.\n",
    "The prediction at $\\mathbf{x}$ is then given as\n",
    "\\begin{equation}\\label{eq:EST6}\n",
    "q = \\sum_{k} v_k  q_i\n",
    "\\end{equation}\n",
    "it is also possible to provide an estimation of the standard deviation $\\sigma$ as\n",
    "\\begin{equation}\\label{eq:EST7}\n",
    "\\sigma^2 = \\sum_{k} v_k  \\gamma_i + \\lambda - \\gamma(0)\n",
    "\\end{equation}"
   ]
  },
  {
   "cell_type": "markdown",
   "metadata": {},
   "source": [
    "To find the $v_i$'s and $\\lambda$ we need to solve a system of linear equations \n",
    "\\begin{equation}\\label{eq:SE}\n",
    "\\mathbf{A} \\mathbf{u} =\\mathbf{b}\n",
    "\\end{equation}\n",
    "for the unknown vector \n",
    "\\begin{equation}\\label{eq:SOL}\n",
    "\\mathbf{u} =\n",
    "\\begin{bmatrix}\n",
    "v_0 \\\\\n",
    "v_1 \\\\\n",
    "\\vdots \\\\\n",
    "v_{N-1} \\\\\n",
    "\\lambda\n",
    "\\end{bmatrix}\n",
    "\\end{equation}\n",
    "the right hand side vector \n",
    "\\begin{equation}\\label{eq:RHS}\n",
    "\\mathbf{b} =\n",
    "\\begin{bmatrix}\n",
    "\\gamma_0 \\\\\n",
    "\\gamma_1 \\\\\n",
    "\\vdots \\\\\n",
    "\\gamma_{N-1} \\\\\n",
    "1\n",
    "\\end{bmatrix}\n",
    "\\end{equation}\n",
    "and \n",
    "\\begin{equation}\\label{eq:A}\n",
    "\\mathbf{A} =\n",
    "\\begin{bmatrix}\n",
    "\\gamma_{00}  & \\gamma_{01} & \\ldots & \\gamma_{0(Ndata-1)} & 1 \\\\\n",
    "\\gamma_{10}  & \\gamma_{11} & \\ldots & \\gamma_{1(Ndata-1)} & 1 \\\\\n",
    "\\vdots       &  & \\ddots      & \\vdots  &1 \\\\\n",
    "\\gamma_{(Ndata-1)0}  & \\gamma_{(Ndata-1)1} & \\ldots & \\gamma_{(Ndata-1)(Ndata-1)} & 1 \\\\\n",
    "1  & 1 & \\ldots & 1& 0 \\\\\n",
    "\\end{bmatrix}\n",
    "\\end{equation}\n",
    "\n"
   ]
  },
  {
   "cell_type": "markdown",
   "metadata": {},
   "source": [
    "Set up the matrix:"
   ]
  },
  {
   "cell_type": "code",
   "execution_count": 15,
   "metadata": {
    "tags": [
     "SOLUTION"
    ]
   },
   "outputs": [],
   "source": [
    "A=np.zeros((Ndata+1, Ndata+1)) # matrix\n",
    "\n",
    "for i in range(Ndata):\n",
    "    for j in range(Ndata):\n",
    "        h_ij=np.sqrt((x[j]-x[i])**2+(y[j]-y[i])**2)\n",
    "        A[i,j]=getVarioGram(h_ij)\n",
    "A[Ndata,:Ndata]=1\n",
    "A[:Ndata,Ndata]=1"
   ]
  },
  {
   "cell_type": "markdown",
   "metadata": {},
   "source": [
    "and the right hand side for an estimator at point $\\mathbf{x}=(x_e, y_e)=(200, 200)$:"
   ]
  },
  {
   "cell_type": "code",
   "execution_count": 16,
   "metadata": {
    "tags": [
     "SOLUTION"
    ]
   },
   "outputs": [],
   "source": [
    "xe, ye= 200, 200\n",
    "b=np.zeros((Ndata+1,))  # right hand side \n",
    "for i in range(Ndata):\n",
    "    h_i=np.sqrt((xe-x[i])**2+(ye-y[i])**2)\n",
    "    b[i]=getVarioGram(h_i)\n",
    "b[Ndata]=1"
   ]
  },
  {
   "cell_type": "markdown",
   "metadata": {},
   "source": [
    "Solve the linear system using the `np.linalg.solve` function"
   ]
  },
  {
   "cell_type": "code",
   "execution_count": 17,
   "metadata": {
    "tags": [
     "SOLUTION"
    ]
   },
   "outputs": [],
   "source": [
    "u=np.linalg.solve(A,b)    "
   ]
  },
  {
   "cell_type": "markdown",
   "metadata": {},
   "source": [
    "Extract the coefficient vector from the solution:"
   ]
  },
  {
   "cell_type": "code",
   "execution_count": 18,
   "metadata": {
    "tags": [
     "SOLUTION"
    ]
   },
   "outputs": [],
   "source": [
    "v=u[:Ndata]"
   ]
  },
  {
   "cell_type": "markdown",
   "metadata": {},
   "source": [
    "The prediction at point  $\\mathbf{x}=(x_e, y_e)$ is then the dot product of the coefficient vector `v` with the data vector `q`:"
   ]
  },
  {
   "cell_type": "code",
   "execution_count": 19,
   "metadata": {
    "tags": [
     "SOLUTION"
    ]
   },
   "outputs": [
    {
     "data": {
      "text/plain": [
       "(37.309534315726872, 24.399999999999999, 44.100000000000001)"
      ]
     },
     "execution_count": 19,
     "metadata": {},
     "output_type": "execute_result"
    }
   ],
   "source": [
    "np.dot(v,q), q.min(), q.max()"
   ]
  },
  {
   "cell_type": "markdown",
   "metadata": {},
   "source": [
    "and then we can calculate the estimated error:"
   ]
  },
  {
   "cell_type": "code",
   "execution_count": 20,
   "metadata": {
    "tags": [
     "SOLUTION"
    ]
   },
   "outputs": [
    {
     "data": {
      "text/plain": [
       "3.1370537368032783"
      ]
     },
     "execution_count": 20,
     "metadata": {},
     "output_type": "execute_result"
    }
   ],
   "source": [
    "np.sqrt(np.dot(v,b[:Ndata])+u[Ndata]-getVarioGram(0))"
   ]
  },
  {
   "cell_type": "markdown",
   "metadata": {},
   "source": [
    "Now we want to create a 2D plot of the estimated iron content and the corresponding error.\n",
    "For this we create a grid with gridlines at `xg` and `yg` with spacing `dx`:"
   ]
  },
  {
   "cell_type": "code",
   "execution_count": 21,
   "metadata": {
    "tags": [
     "SOLUTION"
    ]
   },
   "outputs": [],
   "source": [
    "dx=10\n",
    "xg=np.arange(0, 500., dx)\n",
    "yg=np.arange(0, 500., dx)"
   ]
  },
  {
   "cell_type": "markdown",
   "metadata": {},
   "source": [
    "We create arrays to hold the values for the prection and the the variance $\\sigma^2$"
   ]
  },
  {
   "cell_type": "code",
   "execution_count": 22,
   "metadata": {
    "tags": [
     "SOLUTION"
    ]
   },
   "outputs": [],
   "source": [
    "var=np.zeros((len(yg), len(xg)))\n",
    "qe=np.zeros((len(yg), len(xg)))"
   ]
  },
  {
   "cell_type": "markdown",
   "metadata": {},
   "source": [
    "And then we can repeat the work flow which we have already developed for each grid point: "
   ]
  },
  {
   "cell_type": "code",
   "execution_count": 23,
   "metadata": {
    "tags": [
     "SOLUTION"
    ]
   },
   "outputs": [],
   "source": [
    "for k in range(len(xg)):\n",
    "  for l in range(len(yg)):\n",
    "        xe=xg[k]\n",
    "        ye=yg[l]\n",
    "        for i in range(Ndata):\n",
    "            b[i]=getVarioGram(np.sqrt((xe-x[i])**2+(ye-y[i])**2) )\n",
    "        b[Ndata]=1\n",
    "        u=np.linalg.solve(A,b)    \n",
    "        v=u[:Ndata]\n",
    "        var[l,k]=np.dot(v,b[:Ndata])+u[Ndata]-getVarioGram(0)\n",
    "        qe[l,k]=np.dot(v,q)"
   ]
  },
  {
   "cell_type": "markdown",
   "metadata": {},
   "source": [
    "plot the predicted iron content distribution:"
   ]
  },
  {
   "cell_type": "code",
   "execution_count": 24,
   "metadata": {
    "tags": [
     "SOLUTION"
    ]
   },
   "outputs": [
    {
     "data": {
      "text/plain": [
       "<matplotlib.collections.PathCollection at 0x7f9269e60438>"
      ]
     },
     "execution_count": 24,
     "metadata": {},
     "output_type": "execute_result"
    },
    {
     "data": {
      "image/png": "[encoded data removed]",
      "text/plain": [
       "<matplotlib.figure.Figure at 0x7f9269ee5d68>"
      ]
     },
     "metadata": {},
     "output_type": "display_data"
    }
   ],
   "source": [
    "plt.figure()\n",
    "plt.contourf(xg, yg, qe)\n",
    "plt.xlabel(\"easting [m]\")\n",
    "plt.ylabel(\"northing [m]\")\n",
    "plt.title(\"Ordinary kriging: Iron content\")\n",
    "plt.colorbar()\n",
    "plt.scatter(x,y, s=4)"
   ]
  },
  {
   "cell_type": "markdown",
   "metadata": {},
   "source": [
    "The estimated error is the square root of the variance. Due to rounding errors a tiny variance my be calculated\n",
    "with negative values so we need to clean this up before taking the root:"
   ]
  },
  {
   "cell_type": "code",
   "execution_count": 25,
   "metadata": {
    "tags": [
     "SOLUTION"
    ]
   },
   "outputs": [],
   "source": [
    "var[var<0]=0\n",
    "rel_std=np.sqrt(var)/qe*100"
   ]
  },
  {
   "cell_type": "markdown",
   "metadata": {},
   "source": [
    "An finally we can plot the relative error:"
   ]
  },
  {
   "cell_type": "code",
   "execution_count": 26,
   "metadata": {
    "tags": [
     "SOLUTION"
    ]
   },
   "outputs": [
    {
     "data": {
      "text/plain": [
       "<matplotlib.collections.PathCollection at 0x7f9269d372b0>"
      ]
     },
     "execution_count": 26,
     "metadata": {},
     "output_type": "execute_result"
    },
    {
     "data": {
      "image/png": "[encoded data removed]",
      "text/plain": [
       "<matplotlib.figure.Figure at 0x7f9269df0ef0>"
      ]
     },
     "metadata": {},
     "output_type": "display_data"
    }
   ],
   "source": [
    "plt.figure()\n",
    "plt.contourf(xg, yg, rel_std)\n",
    "plt.xlabel(\"easting [m]\")\n",
    "plt.ylabel(\"northing [m]\")\n",
    "plt.title(\"Estimated error in %\")\n",
    "plt.colorbar()\n",
    "plt.scatter(x,y, s=4)"
   ]
  }
 ],
 "metadata": {
  "celltoolbar": "Tags",
  "kernelspec": {
   "display_name": "Python 3",
   "language": "python",
   "name": "python3"
  },
  "language_info": {
   "codemirror_mode": {
    "name": "ipython",
    "version": 3
   },
   "file_extension": ".py",
   "mimetype": "text/x-python",
   "name": "python",
   "nbconvert_exporter": "python",
   "pygments_lexer": "ipython3",
   "version": "3.6.8"
  },
  "latex_envs": {
   "LaTeX_envs_menu_present": true,
   "autoclose": false,
   "autocomplete": true,
   "bibliofile": "biblio.bib",
   "cite_by": "apalike",
   "current_citInitial": 1,
   "eqLabelWithNumbers": true,
   "eqNumInitial": 1,
   "hotkeys": {
    "equation": "Ctrl-E",
    "itemize": "Ctrl-I"
   },
   "labels_anchors": false,
   "latex_user_defs": false,
   "report_style_numbering": false,
   "user_envs_cfg": false
  },
  "toc": {
   "base_numbering": 1,
   "nav_menu": {},
   "number_sections": true,
   "sideBar": true,
   "skip_h1_title": false,
   "title_cell": "Table of Contents",
   "title_sidebar": "Contents",
   "toc_cell": false,
   "toc_position": {},
   "toc_section_display": true,
   "toc_window_display": false
  },
  "varInspector": {
   "cols": {
    "lenName": 16,
    "lenType": 16,
    "lenVar": 40
   },
   "kernels_config": {
    "python": {
     "delete_cmd_postfix": "",
     "delete_cmd_prefix": "del ",
     "library": "var_list.py",
     "varRefreshCmd": "print(var_dic_list())"
    },
    "r": {
     "delete_cmd_postfix": ") ",
     "delete_cmd_prefix": "rm(",
     "library": "var_list.r",
     "varRefreshCmd": "cat(var_dic_list()) "
    }
   },
   "types_to_exclude": [
    "module",
    "function",
    "builtin_function_or_method",
    "instance",
    "_Feature"
   ],
   "window_display": false
  }
 },
 "nbformat": 4,
 "nbformat_minor": 2
}
